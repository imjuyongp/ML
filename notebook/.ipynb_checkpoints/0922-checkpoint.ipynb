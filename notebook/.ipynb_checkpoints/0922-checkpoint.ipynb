{
 "cells": [
  {
   "cell_type": "code",
   "execution_count": 1,
   "id": "02954d4b-c654-4dcc-aaa9-727bc223e452",
   "metadata": {},
   "outputs": [],
   "source": [
    "import torch"
   ]
  },
  {
   "cell_type": "code",
   "execution_count": 2,
   "id": "e9ee02bb-78cd-44aa-afdb-228e11450d64",
   "metadata": {},
   "outputs": [],
   "source": [
    "import numpy as np"
   ]
  },
  {
   "cell_type": "code",
   "execution_count": 3,
   "id": "159bf813-df29-41bf-a5e2-68a6d806758f",
   "metadata": {},
   "outputs": [],
   "source": [
    "# Expand 함수\n",
    "# 차원의 크기가 1인 차원을 원하는 크기로 늘여줌\n",
    "# cat 함수를 통해 구현할 경우 다음과 같음\n",
    "# expand() 사용 시 주의할 점\n",
    "# 확장되는 데이터는 원ㄴ본 데이터의 참조일 뿐 복사가 아님"
   ]
  },
  {
   "cell_type": "code",
   "execution_count": 5,
   "id": "4cb2a36d-c6c4-45f9-a9f6-4975b6193128",
   "metadata": {},
   "outputs": [
    {
     "name": "stdout",
     "output_type": "stream",
     "text": [
      "torch.Size([2, 1, 2])\n",
      "5014340032\n",
      "5014340036\n",
      "5014340040\n",
      "5014340044\n"
     ]
    }
   ],
   "source": [
    "x = torch.FloatTensor([[[1,2]],[[3,4]]])\n",
    "print(x.shape)\n",
    "for i in range(2):\n",
    "    for j in range(1):\n",
    "        for k in range(2):\n",
    "            print(x[i][j][k].data_ptr())"
   ]
  },
  {
   "cell_type": "code",
   "execution_count": 6,
   "id": "17820956-b7bb-4b28-b915-01e0737bcea4",
   "metadata": {},
   "outputs": [
    {
     "data": {
      "text/plain": [
       "(2, 2, 1)"
      ]
     },
     "execution_count": 6,
     "metadata": {},
     "output_type": "execute_result"
    }
   ],
   "source": [
    "x.stride()"
   ]
  },
  {
   "cell_type": "code",
   "execution_count": 10,
   "id": "bf726aca-0f67-4455-a8ac-edd16d0edc49",
   "metadata": {},
   "outputs": [
    {
     "name": "stdout",
     "output_type": "stream",
     "text": [
      "torch.Size([3, 2]) torch.Size([2, 2])\n"
     ]
    }
   ],
   "source": [
    "#행렬 곱\n",
    "x = torch.FloatTensor([[1,2],[3,4],[5,6]])\n",
    "y = torch.FloatTensor([[1,2],[1,2]])\n",
    "print(x.size(),y.size())"
   ]
  },
  {
   "cell_type": "code",
   "execution_count": 12,
   "id": "496bf497-8eff-489c-ad47-4daba035ce0b",
   "metadata": {},
   "outputs": [
    {
     "name": "stdout",
     "output_type": "stream",
     "text": [
      "torch.Size([3, 2])\n"
     ]
    }
   ],
   "source": [
    "z = torch.matmul(x,y)\n",
    "print(z.size())"
   ]
  },
  {
   "cell_type": "code",
   "execution_count": 15,
   "id": "77f8b5db-f97c-4585-87de-bbd4192dec5b",
   "metadata": {},
   "outputs": [
    {
     "name": "stdout",
     "output_type": "stream",
     "text": [
      "torch.Size([3, 3, 3])\n"
     ]
    }
   ],
   "source": [
    "# 배치 행렬 곱\n",
    "x = torch.FloatTensor(3,3,2)\n",
    "y = torch.FloatTensor(3,2,3)\n",
    "z = torch.bmm(x,y)\n",
    "print(z.size())"
   ]
  },
  {
   "cell_type": "code",
   "execution_count": 30,
   "id": "e244a2db-609c-44ec-b122-37ccae50fdac",
   "metadata": {},
   "outputs": [],
   "source": [
    "# 3x2 크기의 행렬 w와 2개의 요소를 갖는 벡터 b를 선언\n",
    "# 입려층 3개의 뉴련\n",
    "# 출력층 2개의 뉴런\n",
    "\n",
    "w = torch.FloatTensor([[1,2],[3,4],[5,6]])\n",
    "b = torch.FloatTensor([2,2])"
   ]
  },
  {
   "cell_type": "code",
   "execution_count": 63,
   "id": "170b8b34-7365-4045-b3b3-67a85e41ec8e",
   "metadata": {},
   "outputs": [],
   "source": [
    "# 선형 계층 함수\n",
    "def linear(x,w,b):\n",
    "    y = torch.matmul(x,w) + b\n",
    "    return y"
   ]
  },
  {
   "cell_type": "code",
   "execution_count": 64,
   "id": "dc3c6a37-91f0-452d-8892-e32f9300e387",
   "metadata": {},
   "outputs": [],
   "source": [
    "# x 3개의 요소를 갖는 4개의 샘플\n",
    "# 3개의 뉴런에 샘플 4개를 연속으로 입력 -> 한번에 처리\n",
    "x = torch.FloatTensor(4,3)"
   ]
  },
  {
   "cell_type": "code",
   "execution_count": 65,
   "id": "e0c525eb-e307-4eba-80a3-78887217574f",
   "metadata": {},
   "outputs": [
    {
     "data": {
      "text/plain": [
       "tensor([[0., 0., 0.],\n",
       "        [0., 0., 0.],\n",
       "        [0., 0., 0.],\n",
       "        [0., 0., 0.]])"
      ]
     },
     "execution_count": 65,
     "metadata": {},
     "output_type": "execute_result"
    }
   ],
   "source": [
    "x"
   ]
  },
  {
   "cell_type": "code",
   "execution_count": 66,
   "id": "fc448c01-bba1-4862-b5e7-203f6a9fa7af",
   "metadata": {},
   "outputs": [],
   "source": [
    "# 4개의 샘플에 대한 결과 값\n",
    "#각 결과 값은 2개 뉴런의 출력으로 구성"
   ]
  },
  {
   "cell_type": "code",
   "execution_count": 67,
   "id": "6e72455e-884b-4a98-8cdc-19591201ad29",
   "metadata": {},
   "outputs": [
    {
     "name": "stdout",
     "output_type": "stream",
     "text": [
      "torch.Size([4, 2])\n"
     ]
    },
    {
     "data": {
      "text/plain": [
       "torch.Size([4, 2])"
      ]
     },
     "execution_count": 67,
     "metadata": {},
     "output_type": "execute_result"
    }
   ],
   "source": [
    "y = linear(x,w,b)\n",
    "print(y.size())\n",
    "torch.Size([4,2])"
   ]
  },
  {
   "cell_type": "code",
   "execution_count": 68,
   "id": "866a88cf-1a69-45f5-9c25-ba00e9df6a95",
   "metadata": {},
   "outputs": [
    {
     "data": {
      "text/plain": [
       "tensor([[2., 2.],\n",
       "        [2., 2.],\n",
       "        [2., 2.],\n",
       "        [2., 2.]])"
      ]
     },
     "execution_count": 68,
     "metadata": {},
     "output_type": "execute_result"
    }
   ],
   "source": [
    "y"
   ]
  },
  {
   "cell_type": "code",
   "execution_count": 69,
   "id": "beaa5592-7430-4413-ae69-51214d9a4957",
   "metadata": {},
   "outputs": [],
   "source": [
    "# torch.nn.Module 클래스 상속 받기\n",
    "import torch.nn as nn"
   ]
  },
  {
   "cell_type": "code",
   "execution_count": 72,
   "id": "1b1d92c6-1854-4ac7-b350-a20a93113f8d",
   "metadata": {},
   "outputs": [],
   "source": [
    "class MyLinear(nn.Module):\n",
    "    def __init__(self, input_dim=3,output_dim=3):\n",
    "        self.input_dim = input_dim\n",
    "        self.output_dim = output_dim\n",
    "\n",
    "        super().__init__()\n",
    "\n",
    "        self.w = torch.FloatTensor(input_dim, output_dim)\n",
    "        self.b = torch.FloatTensor(output_dim)\n",
    "\n",
    "    def forward(self, x):\n",
    "        y = torch.matmul(x, self.w) + self.b\n",
    "        return y"
   ]
  },
  {
   "cell_type": "code",
   "execution_count": 73,
   "id": "68a25f2b-75b7-4e4b-9a4d-2510748ea0c5",
   "metadata": {},
   "outputs": [],
   "source": [
    "linear = MyLinear(3,2)\n",
    "y = linear(x)"
   ]
  },
  {
   "cell_type": "code",
   "execution_count": 74,
   "id": "04fcf375-9c38-49e0-82d7-5a067968ce53",
   "metadata": {},
   "outputs": [
    {
     "data": {
      "text/plain": [
       "tensor([[0., 0.],\n",
       "        [0., 0.],\n",
       "        [0., 0.],\n",
       "        [0., 0.]])"
      ]
     },
     "execution_count": 74,
     "metadata": {},
     "output_type": "execute_result"
    }
   ],
   "source": [
    "y "
   ]
  },
  {
   "cell_type": "code",
   "execution_count": 75,
   "id": "a93eaf7c-0711-4ec8-922a-aa7999535456",
   "metadata": {},
   "outputs": [
    {
     "data": {
      "text/plain": [
       "tensor([[0., 0., 0.],\n",
       "        [0., 0., 0.],\n",
       "        [0., 0., 0.],\n",
       "        [0., 0., 0.]])"
      ]
     },
     "execution_count": 75,
     "metadata": {},
     "output_type": "execute_result"
    }
   ],
   "source": [
    "x\n"
   ]
  },
  {
   "cell_type": "code",
   "execution_count": 78,
   "id": "7417db86-160d-41a3-800c-abad95190517",
   "metadata": {},
   "outputs": [],
   "source": [
    "class MyLinear(nn.Module):\n",
    "    def __init__(self, input_dim=3,output_dim=3):\n",
    "        self.input_dim = input_dim\n",
    "        self.output_dim = output_dim\n",
    "\n",
    "        super().__init__()\n",
    "\n",
    "        self.w = nn.Parameter(torch.FloatTensor(input_dim, output_dim))\n",
    "        self.b = nn.Parameter(torch.FloatTensor(output_dim))\n",
    "\n",
    "    def forward(self, x):\n",
    "        y = torch.matmul(x, self.w) + self.b\n",
    "        return y"
   ]
  },
  {
   "cell_type": "code",
   "execution_count": 81,
   "id": "fba92b72-9c80-42eb-a2fc-cd5f9e7ac426",
   "metadata": {},
   "outputs": [],
   "source": [
    "# MSE Loss\n",
    "def mse(x_hat, x):\n",
    "    #\\x_hat\\ = (bat_size, dim)\n",
    "    # \\x\\ = (batch_size, dim)\n",
    "    y = ((x - x_hat)**2).mean()\n",
    "    return y"
   ]
  },
  {
   "cell_type": "code",
   "execution_count": 89,
   "id": "bb81a921-f00e-4c29-a232-63192487765a",
   "metadata": {},
   "outputs": [
    {
     "data": {
      "text/plain": [
       "tensor(2.5000)"
      ]
     },
     "execution_count": 89,
     "metadata": {},
     "output_type": "execute_result"
    }
   ],
   "source": [
    "import torch\n",
    "x = torch.FloatTensor([[1,1],[2,2]])\n",
    "x_hat = torch.FloatTensor([[0,0],[0,0]])\n",
    "mse(x_hat, x)"
   ]
  },
  {
   "cell_type": "code",
   "execution_count": 90,
   "id": "a2024256-cfbe-49a5-be23-cae0692b4f43",
   "metadata": {},
   "outputs": [
    {
     "data": {
      "text/plain": [
       "tensor(2.5000)"
      ]
     },
     "execution_count": 90,
     "metadata": {},
     "output_type": "execute_result"
    }
   ],
   "source": [
    "# torch.nn.functional 사용하기\n",
    "import torch.nn.functional as F\n",
    "F.mse_loss(x_hat, x)"
   ]
  },
  {
   "cell_type": "code",
   "execution_count": 91,
   "id": "3b442983-6803-4336-8f09-731122b0a835",
   "metadata": {},
   "outputs": [
    {
     "data": {
      "text/plain": [
       "tensor(10.)"
      ]
     },
     "execution_count": 91,
     "metadata": {},
     "output_type": "execute_result"
    }
   ],
   "source": [
    "F.mse_loss(x_hat, x, reduction='sum')"
   ]
  },
  {
   "cell_type": "code",
   "execution_count": 92,
   "id": "089b6a7e-5d74-4338-8424-abb99ec6dc5f",
   "metadata": {},
   "outputs": [
    {
     "data": {
      "text/plain": [
       "tensor([[1., 1.],\n",
       "        [4., 4.]])"
      ]
     },
     "execution_count": 92,
     "metadata": {},
     "output_type": "execute_result"
    }
   ],
   "source": [
    "F.mse_loss(x_hat, x, reduction='none')"
   ]
  },
  {
   "cell_type": "code",
   "execution_count": 93,
   "id": "c3edea71-ce3e-4625-acc7-63cc8e3adba5",
   "metadata": {},
   "outputs": [
    {
     "data": {
      "text/plain": [
       "tensor(2.5000)"
      ]
     },
     "execution_count": 93,
     "metadata": {},
     "output_type": "execute_result"
    }
   ],
   "source": [
    "import torch.nn as nn\n",
    "mse_loss = nn.MSELoss() # nn.Module의 계층(Layer)으로 다룰 수 있음\n",
    "mse_loss(x_hat, x)"
   ]
  },
  {
   "cell_type": "code",
   "execution_count": 94,
   "id": "86101120-b4ee-4c58-80be-3d91ea60a2ff",
   "metadata": {},
   "outputs": [
    {
     "data": {
      "text/plain": [
       "tensor(2.0794)"
      ]
     },
     "execution_count": 94,
     "metadata": {},
     "output_type": "execute_result"
    }
   ],
   "source": [
    "# 교처 엔트로피\n",
    "F.cross_entropy(x_hat,x)"
   ]
  },
  {
   "cell_type": "code",
   "execution_count": null,
   "id": "93b29548-1aa2-4b0f-b54e-a6fc6b651bce",
   "metadata": {},
   "outputs": [],
   "source": []
  }
 ],
 "metadata": {
  "kernelspec": {
   "display_name": "Python 3 (ipykernel)",
   "language": "python",
   "name": "python3"
  },
  "language_info": {
   "codemirror_mode": {
    "name": "ipython",
    "version": 3
   },
   "file_extension": ".py",
   "mimetype": "text/x-python",
   "name": "python",
   "nbconvert_exporter": "python",
   "pygments_lexer": "ipython3",
   "version": "3.13.7"
  }
 },
 "nbformat": 4,
 "nbformat_minor": 5
}
