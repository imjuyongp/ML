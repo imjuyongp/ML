{
 "cells": [
  {
   "cell_type": "markdown",
   "id": "ac9cf7a0-3e19-4aa5-8872-abdd37db2ef1",
   "metadata": {},
   "source": [
    "### 경사하강법 구현"
   ]
  },
  {
   "cell_type": "code",
   "execution_count": 7,
   "id": "2f530056-218b-4a23-bdc2-e25750e922ec",
   "metadata": {},
   "outputs": [],
   "source": [
    "import torch\n",
    "import torch.nn.functional as F"
   ]
  },
  {
   "cell_type": "code",
   "execution_count": 8,
   "id": "3e5d99bb-e569-4678-a736-2c25c030be8c",
   "metadata": {},
   "outputs": [
    {
     "name": "stdout",
     "output_type": "stream",
     "text": [
      "tensor([[0.3599, 0.5635, 0.8565],\n",
      "        [0.6552, 0.9540, 0.5834],\n",
      "        [0.2724, 0.9594, 0.2812]], requires_grad=True)\n"
     ]
    }
   ],
   "source": [
    "target = torch.FloatTensor([[.1,.2,.3],[.4,.5,.6],[.7,.8,.9]])\n",
    "x = torch.rand_like(target) # x 값을 목표로\n",
    "x.requires_grad = True\n",
    "print(x)"
   ]
  },
  {
   "cell_type": "code",
   "execution_count": 12,
   "id": "d2e0a6fb-f16f-43d5-b7ea-58e7305df510",
   "metadata": {},
   "outputs": [
    {
     "name": "stdout",
     "output_type": "stream",
     "text": [
      "tensor(0.1525, grad_fn=<MseLossBackward0>)\n"
     ]
    }
   ],
   "source": [
    "loss = F.mse_loss(x, target)\n",
    "print(loss)"
   ]
  },
  {
   "cell_type": "code",
   "execution_count": 14,
   "id": "a2d309e2-c3ee-4f17-91ba-901ffc9491ce",
   "metadata": {},
   "outputs": [
    {
     "name": "stdout",
     "output_type": "stream",
     "text": [
      "1-th Loss : 9.2223e-02\n",
      "tensor([[0.3022, 0.4828, 0.7329],\n",
      "        [0.5985, 0.8531, 0.5871],\n",
      "        [0.3675, 0.9239, 0.4187]], requires_grad=True)\n",
      "2-th Loss : 5.5789e-02\n",
      "tensor([[0.2572, 0.4199, 0.6367],\n",
      "        [0.5544, 0.7746, 0.5900],\n",
      "        [0.4414, 0.8964, 0.5257]], requires_grad=True)\n",
      "3-th Loss : 3.3749e-02\n",
      "tensor([[0.2223, 0.3710, 0.5619],\n",
      "        [0.5201, 0.7136, 0.5922],\n",
      "        [0.4988, 0.8750, 0.6089]], requires_grad=True)\n",
      "4-th Loss : 2.0416e-02\n",
      "tensor([[0.1951, 0.3330, 0.5037],\n",
      "        [0.4934, 0.6661, 0.5939],\n",
      "        [0.5435, 0.8583, 0.6736]], requires_grad=True)\n",
      "5-th Loss : 1.2350e-02\n",
      "tensor([[0.1740, 0.3035, 0.4584],\n",
      "        [0.4726, 0.6292, 0.5953],\n",
      "        [0.5783, 0.8454, 0.7239]], requires_grad=True)\n",
      "6-th Loss : 7.4713e-03\n",
      "tensor([[0.1575, 0.2805, 0.4232],\n",
      "        [0.4565, 0.6005, 0.5963],\n",
      "        [0.6053, 0.8353, 0.7630]], requires_grad=True)\n",
      "7-th Loss : 4.5197e-03\n",
      "tensor([[0.1448, 0.2626, 0.3958],\n",
      "        [0.4439, 0.5782, 0.5971],\n",
      "        [0.6264, 0.8274, 0.7935]], requires_grad=True)\n",
      "8-th Loss : 2.7341e-03\n",
      "tensor([[0.1348, 0.2487, 0.3745],\n",
      "        [0.4342, 0.5608, 0.5978],\n",
      "        [0.6427, 0.8213, 0.8171]], requires_grad=True)\n",
      "9-th Loss : 1.6540e-03\n",
      "tensor([[0.1271, 0.2379, 0.3580],\n",
      "        [0.4266, 0.5473, 0.5983],\n",
      "        [0.6555, 0.8166, 0.8355]], requires_grad=True)\n",
      "10-th Loss : 1.0006e-03\n",
      "tensor([[0.1211, 0.2295, 0.3451],\n",
      "        [0.4207, 0.5368, 0.5987],\n",
      "        [0.6654, 0.8129, 0.8499]], requires_grad=True)\n",
      "11-th Loss : 6.0527e-04\n",
      "tensor([[0.1164, 0.2229, 0.3351],\n",
      "        [0.4161, 0.5286, 0.5990],\n",
      "        [0.6731, 0.8100, 0.8610]], requires_grad=True)\n",
      "12-th Loss : 3.6615e-04\n",
      "tensor([[0.1127, 0.2178, 0.3273],\n",
      "        [0.4125, 0.5222, 0.5992],\n",
      "        [0.6790, 0.8078, 0.8697]], requires_grad=True)\n",
      "13-th Loss : 2.2150e-04\n",
      "tensor([[0.1099, 0.2139, 0.3212],\n",
      "        [0.4097, 0.5173, 0.5994],\n",
      "        [0.6837, 0.8061, 0.8764]], requires_grad=True)\n",
      "14-th Loss : 1.3399e-04\n",
      "tensor([[0.1077, 0.2108, 0.3165],\n",
      "        [0.4076, 0.5135, 0.5995],\n",
      "        [0.6873, 0.8047, 0.8817]], requires_grad=True)\n",
      "15-th Loss : 8.1058e-05\n",
      "tensor([[0.1060, 0.2084, 0.3128],\n",
      "        [0.4059, 0.5105, 0.5996],\n",
      "        [0.6901, 0.8037, 0.8857]], requires_grad=True)\n",
      "16-th Loss : 4.9035e-05\n",
      "tensor([[0.1047, 0.2065, 0.3100],\n",
      "        [0.4046, 0.5081, 0.5997],\n",
      "        [0.6923, 0.8029, 0.8889]], requires_grad=True)\n",
      "17-th Loss : 2.9663e-05\n",
      "tensor([[0.1036, 0.2051, 0.3078],\n",
      "        [0.4036, 0.5063, 0.5998],\n",
      "        [0.6940, 0.8022, 0.8914]], requires_grad=True)\n",
      "18-th Loss : 1.7944e-05\n",
      "tensor([[0.1028, 0.2039, 0.3060],\n",
      "        [0.4028, 0.5049, 0.5998],\n",
      "        [0.6954, 0.8017, 0.8933]], requires_grad=True)\n",
      "19-th Loss : 1.0855e-05\n",
      "tensor([[0.1022, 0.2031, 0.3047],\n",
      "        [0.4022, 0.5038, 0.5999],\n",
      "        [0.6964, 0.8013, 0.8948]], requires_grad=True)\n",
      "20-th Loss : 6.5668e-06\n",
      "tensor([[0.1017, 0.2024, 0.3037],\n",
      "        [0.4017, 0.5030, 0.5999],\n",
      "        [0.6972, 0.8010, 0.8959]], requires_grad=True)\n"
     ]
    },
    {
     "name": "stderr",
     "output_type": "stream",
     "text": [
      "/var/folders/dc/3dqm8vys2qv2c52_q3sn76xr0000gn/T/ipykernel_68302/3127333054.py:16: UserWarning: Converting a tensor with requires_grad=True to a scalar may lead to unexpected behavior.\n",
      "Consider using tensor.detach() first. (Triggered internally at /Users/runner/work/pytorch/pytorch/pytorch/torch/csrc/autograd/generated/python_variable_methods.cpp:836.)\n",
      "  print('%d-th Loss : %.4e' %(iter_cnt, loss))\n"
     ]
    }
   ],
   "source": [
    "threshold = 1e-5\n",
    "learning_rate = 1. # 학습률을 바꾸면 반복 횟수가 달라진다\n",
    "iter_cnt = 0\n",
    "\n",
    "while loss > threshold:\n",
    "    iter_cnt += 1\n",
    "    loss.backward() # 편미분 수행 --> x.grad에 미분값 저장\n",
    "    \n",
    "    x = x - learning_rate * x.grad # 손실함수 보정\n",
    "\n",
    "    x.detach_() \n",
    "    x.requires_grad_(True)\n",
    "\n",
    "    loss = F.mse_loss(x, target)\n",
    "\n",
    "    print('%d-th Loss : %.4e' %(iter_cnt, loss))\n",
    "    print(x)"
   ]
  },
  {
   "cell_type": "markdown",
   "id": "7632d002-8cd0-4e5e-927c-36a52936001a",
   "metadata": {},
   "source": [
    "## 계산 그래프\n",
    "- 데아터(텐서)를 계산 래내는데 사용돤 모둔 연산과정을 함수 객체러 구성된 방향성 비순환 그래프로 표현한 것\n",
    "- DAG의 터미널들은 입력 텐서이고, root node는 계산 결과 텐서임\n",
    "- forward 전파에서는 터미널에서 루트노드 방향으로 계산\n",
    "- backward 전파에서는 반대로 루트 노드로 부터 터미널 노드 방형으로 기울기 함수(grad_fn)를 실행하여 각 노드(텐서)의 .grad의 속성에 저장됨\n",
    "- 파이토치의 계산 그래프는 동적 그래프로, backward()가 호출되고 나면 다시 생성됨 -> 헉습하는 동안 수정 가능"
   ]
  },
  {
   "cell_type": "markdown",
   "id": "2b2630e7-03f1-4523-b439-d6f270701a5a",
   "metadata": {},
   "source": [
    "### 옵티마이저 활용\n",
    "- 실제 모델 학습에서 경사하강법 수행 -> 옵티마이저(optimizer)\n",
    "  - 옵티마이저에 학습시킬 모델의 모든 파라미터들을 등록\n",
    "  - step() 함수로 경사하강 수행 (위 예의 x.grad 속성 값을 모델의 계산 그래프를 거슬러 올라가면서 모든 파라미터에 대해서 경사 함수(grad_fn)을 실행하여 계산함"
   ]
  },
  {
   "cell_type": "markdown",
   "id": "55cf4795-ff90-4a47-af84-ed03a51361d6",
   "metadata": {},
   "source": [
    "### 선형 회귀\n",
    "- 실수 벡터 입력이 주어졌을 때, 선령적 관계를 지닌 출력 실수 벡터 값을 예측하는 문제"
   ]
  },
  {
   "cell_type": "code",
   "execution_count": 21,
   "id": "b0c400b2-603d-4ff0-852c-4eee9757e832",
   "metadata": {},
   "outputs": [],
   "source": [
    "import pandas as pd\n",
    "import seaborn as sns\n",
    "import matplotlib.pyplot as plt"
   ]
  },
  {
   "cell_type": "code",
   "execution_count": 22,
   "id": "eefc5c5e-3873-415b-82ff-0244eff5b2da",
   "metadata": {},
   "outputs": [
    {
     "name": "stdout",
     "output_type": "stream",
     "text": [
      "Requirement already satisfied: pandas in /Users/parkjuyong/Desktop/4-1/Machine Learning/venvs/ML/lib/python3.13/site-packages (2.3.2)\n",
      "Requirement already satisfied: numpy>=1.26.0 in /Users/parkjuyong/Desktop/4-1/Machine Learning/venvs/ML/lib/python3.13/site-packages (from pandas) (2.3.3)\n",
      "Requirement already satisfied: python-dateutil>=2.8.2 in /Users/parkjuyong/Desktop/4-1/Machine Learning/venvs/ML/lib/python3.13/site-packages (from pandas) (2.9.0.post0)\n",
      "Requirement already satisfied: pytz>=2020.1 in /Users/parkjuyong/Desktop/4-1/Machine Learning/venvs/ML/lib/python3.13/site-packages (from pandas) (2025.2)\n",
      "Requirement already satisfied: tzdata>=2022.7 in /Users/parkjuyong/Desktop/4-1/Machine Learning/venvs/ML/lib/python3.13/site-packages (from pandas) (2025.2)\n",
      "Requirement already satisfied: six>=1.5 in /Users/parkjuyong/Desktop/4-1/Machine Learning/venvs/ML/lib/python3.13/site-packages (from python-dateutil>=2.8.2->pandas) (1.17.0)\n",
      "Requirement already satisfied: seaborn in /Users/parkjuyong/Desktop/4-1/Machine Learning/venvs/ML/lib/python3.13/site-packages (0.13.2)\n",
      "Requirement already satisfied: numpy!=1.24.0,>=1.20 in /Users/parkjuyong/Desktop/4-1/Machine Learning/venvs/ML/lib/python3.13/site-packages (from seaborn) (2.3.3)\n",
      "Requirement already satisfied: pandas>=1.2 in /Users/parkjuyong/Desktop/4-1/Machine Learning/venvs/ML/lib/python3.13/site-packages (from seaborn) (2.3.2)\n",
      "Requirement already satisfied: matplotlib!=3.6.1,>=3.4 in /Users/parkjuyong/Desktop/4-1/Machine Learning/venvs/ML/lib/python3.13/site-packages (from seaborn) (3.10.6)\n",
      "Requirement already satisfied: contourpy>=1.0.1 in /Users/parkjuyong/Desktop/4-1/Machine Learning/venvs/ML/lib/python3.13/site-packages (from matplotlib!=3.6.1,>=3.4->seaborn) (1.3.3)\n",
      "Requirement already satisfied: cycler>=0.10 in /Users/parkjuyong/Desktop/4-1/Machine Learning/venvs/ML/lib/python3.13/site-packages (from matplotlib!=3.6.1,>=3.4->seaborn) (0.12.1)\n",
      "Requirement already satisfied: fonttools>=4.22.0 in /Users/parkjuyong/Desktop/4-1/Machine Learning/venvs/ML/lib/python3.13/site-packages (from matplotlib!=3.6.1,>=3.4->seaborn) (4.60.0)\n",
      "Requirement already satisfied: kiwisolver>=1.3.1 in /Users/parkjuyong/Desktop/4-1/Machine Learning/venvs/ML/lib/python3.13/site-packages (from matplotlib!=3.6.1,>=3.4->seaborn) (1.4.9)\n",
      "Requirement already satisfied: packaging>=20.0 in /Users/parkjuyong/Desktop/4-1/Machine Learning/venvs/ML/lib/python3.13/site-packages (from matplotlib!=3.6.1,>=3.4->seaborn) (25.0)\n",
      "Requirement already satisfied: pillow>=8 in /Users/parkjuyong/Desktop/4-1/Machine Learning/venvs/ML/lib/python3.13/site-packages (from matplotlib!=3.6.1,>=3.4->seaborn) (11.3.0)\n",
      "Requirement already satisfied: pyparsing>=2.3.1 in /Users/parkjuyong/Desktop/4-1/Machine Learning/venvs/ML/lib/python3.13/site-packages (from matplotlib!=3.6.1,>=3.4->seaborn) (3.2.5)\n",
      "Requirement already satisfied: python-dateutil>=2.7 in /Users/parkjuyong/Desktop/4-1/Machine Learning/venvs/ML/lib/python3.13/site-packages (from matplotlib!=3.6.1,>=3.4->seaborn) (2.9.0.post0)\n",
      "Requirement already satisfied: pytz>=2020.1 in /Users/parkjuyong/Desktop/4-1/Machine Learning/venvs/ML/lib/python3.13/site-packages (from pandas>=1.2->seaborn) (2025.2)\n",
      "Requirement already satisfied: tzdata>=2022.7 in /Users/parkjuyong/Desktop/4-1/Machine Learning/venvs/ML/lib/python3.13/site-packages (from pandas>=1.2->seaborn) (2025.2)\n",
      "Requirement already satisfied: six>=1.5 in /Users/parkjuyong/Desktop/4-1/Machine Learning/venvs/ML/lib/python3.13/site-packages (from python-dateutil>=2.7->matplotlib!=3.6.1,>=3.4->seaborn) (1.17.0)\n"
     ]
    }
   ],
   "source": [
    "!pip install pandas\n",
    "!pip install seaborn"
   ]
  },
  {
   "cell_type": "markdown",
   "id": "e7e1a98e-c415-480a-8069-48b0d4d9c2f7",
   "metadata": {},
   "source": [
    "### 보스턴 주택가격 데이터셋\n",
    "- 506개 샘플\n",
    "- 13개 속성"
   ]
  },
  {
   "cell_type": "markdown",
   "id": "96038be6-40b6-4086-bff4-00d2e5cc4e17",
   "metadata": {},
   "source": [
    "### scikit-learn 특징\n",
    "- 다양한 머신러닝 알고리즘을 구현한 파이썬 라이브러리\n",
    "- 심플하고 일관성 있는 API, 유용한 온라인 문서, 풍부한 예제\n",
    "- 머신러닝을 위한 쉽고 효율적인 개발 라이브러리 제공\n",
    "- 다양한 머신러닝 관련 알고리즘과 개발을 위한 프레임워크와 API제공"
   ]
  },
  {
   "cell_type": "code",
   "execution_count": 18,
   "id": "95b36604-6d08-4f3e-b654-0f144d376cb8",
   "metadata": {},
   "outputs": [
    {
     "name": "stdout",
     "output_type": "stream",
     "text": [
      "Collecting scikit-learn\n",
      "  Downloading scikit_learn-1.7.2-cp313-cp313-macosx_12_0_arm64.whl.metadata (11 kB)\n",
      "Requirement already satisfied: numpy>=1.22.0 in /Users/parkjuyong/Desktop/4-1/Machine Learning/venvs/ML/lib/python3.13/site-packages (from scikit-learn) (2.3.3)\n",
      "Collecting scipy>=1.8.0 (from scikit-learn)\n",
      "  Downloading scipy-1.16.2-cp313-cp313-macosx_14_0_arm64.whl.metadata (62 kB)\n",
      "Collecting joblib>=1.2.0 (from scikit-learn)\n",
      "  Using cached joblib-1.5.2-py3-none-any.whl.metadata (5.6 kB)\n",
      "Collecting threadpoolctl>=3.1.0 (from scikit-learn)\n",
      "  Using cached threadpoolctl-3.6.0-py3-none-any.whl.metadata (13 kB)\n",
      "Downloading scikit_learn-1.7.2-cp313-cp313-macosx_12_0_arm64.whl (8.6 MB)\n",
      "\u001b[2K   \u001b[38;2;114;156;31m━━━━━━━━━━━━━━━━━━━━━━━━━━━━━━━━━━━━━━━━\u001b[0m \u001b[32m8.6/8.6 MB\u001b[0m \u001b[31m7.9 MB/s\u001b[0m  \u001b[33m0:00:01\u001b[0mm \u001b[31m7.5 MB/s\u001b[0m eta \u001b[36m0:00:01\u001b[0m\n",
      "\u001b[?25hUsing cached joblib-1.5.2-py3-none-any.whl (308 kB)\n",
      "Downloading scipy-1.16.2-cp313-cp313-macosx_14_0_arm64.whl (20.9 MB)\n",
      "\u001b[2K   \u001b[38;2;114;156;31m━━━━━━━━━━━━━━━━━━━━━━━━━━━━━━━━━━━━━━━━\u001b[0m \u001b[32m20.9/20.9 MB\u001b[0m \u001b[31m8.3 MB/s\u001b[0m  \u001b[33m0:00:02\u001b[0ma \u001b[36m0:00:01\u001b[0mm eta \u001b[36m0:00:01\u001b[0mm\n",
      "\u001b[?25hUsing cached threadpoolctl-3.6.0-py3-none-any.whl (18 kB)\n",
      "Installing collected packages: threadpoolctl, scipy, joblib, scikit-learn\n",
      "\u001b[2K   \u001b[38;2;114;156;31m━━━━━━━━━━━━━━━━━━━━━━━━━━━━━━━━━━━━━━━━\u001b[0m \u001b[32m4/4\u001b[0m [scikit-learn]0m \u001b[32m3/4\u001b[0m [scikit-learn]\n",
      "\u001b[1A\u001b[2KSuccessfully installed joblib-1.5.2 scikit-learn-1.7.2 scipy-1.16.2 threadpoolctl-3.6.0\n"
     ]
    }
   ],
   "source": [
    "!pip install scikit-learn"
   ]
  },
  {
   "cell_type": "code",
   "execution_count": 23,
   "id": "3ac9310a-116b-4567-b943-573af85a07de",
   "metadata": {},
   "outputs": [
    {
     "ename": "ImportError",
     "evalue": "\n`load_boston` has been removed from scikit-learn since version 1.2.\n\nThe Boston housing prices dataset has an ethical problem: as\ninvestigated in [1], the authors of this dataset engineered a\nnon-invertible variable \"B\" assuming that racial self-segregation had a\npositive impact on house prices [2]. Furthermore the goal of the\nresearch that led to the creation of this dataset was to study the\nimpact of air quality but it did not give adequate demonstration of the\nvalidity of this assumption.\n\nThe scikit-learn maintainers therefore strongly discourage the use of\nthis dataset unless the purpose of the code is to study and educate\nabout ethical issues in data science and machine learning.\n\nIn this special case, you can fetch the dataset from the original\nsource::\n\n    import pandas as pd\n    import numpy as np\n\n    data_url = \"http://lib.stat.cmu.edu/datasets/boston\"\n    raw_df = pd.read_csv(data_url, sep=\"\\s+\", skiprows=22, header=None)\n    data = np.hstack([raw_df.values[::2, :], raw_df.values[1::2, :2]])\n    target = raw_df.values[1::2, 2]\n\nAlternative datasets include the California housing dataset and the\nAmes housing dataset. You can load the datasets as follows::\n\n    from sklearn.datasets import fetch_california_housing\n    housing = fetch_california_housing()\n\nfor the California housing dataset and::\n\n    from sklearn.datasets import fetch_openml\n    housing = fetch_openml(name=\"house_prices\", as_frame=True)\n\nfor the Ames housing dataset.\n\n[1] M Carlisle.\n\"Racist data destruction?\"\n<https://medium.com/@docintangible/racist-data-destruction-113e3eff54a8>\n\n[2] Harrison Jr, David, and Daniel L. Rubinfeld.\n\"Hedonic housing prices and the demand for clean air.\"\nJournal of environmental economics and management 5.1 (1978): 81-102.\n<https://www.researchgate.net/publication/4974606_Hedonic_housing_prices_and_the_demand_for_clean_air>\n",
     "output_type": "error",
     "traceback": [
      "\u001b[31m---------------------------------------------------------------------------\u001b[39m",
      "\u001b[31mImportError\u001b[39m                               Traceback (most recent call last)",
      "\u001b[36mCell\u001b[39m\u001b[36m \u001b[39m\u001b[32mIn[23]\u001b[39m\u001b[32m, line 1\u001b[39m\n\u001b[32m----> \u001b[39m\u001b[32m1\u001b[39m \u001b[38;5;28;01mfrom\u001b[39;00m\u001b[38;5;250m \u001b[39m\u001b[34;01msklearn\u001b[39;00m\u001b[34;01m.\u001b[39;00m\u001b[34;01mdatasets\u001b[39;00m\u001b[38;5;250m \u001b[39m\u001b[38;5;28;01mimport\u001b[39;00m load_boston\n\u001b[32m      2\u001b[39m boston = load_boston()\n\u001b[32m      3\u001b[39m \u001b[38;5;28mprint\u001b[39m(boston.DESCR)\n",
      "\u001b[36mFile \u001b[39m\u001b[32m~/Desktop/4-1/Machine Learning/venvs/ML/lib/python3.13/site-packages/sklearn/datasets/__init__.py:161\u001b[39m, in \u001b[36m__getattr__\u001b[39m\u001b[34m(name)\u001b[39m\n\u001b[32m    110\u001b[39m \u001b[38;5;28;01mif\u001b[39;00m name == \u001b[33m\"\u001b[39m\u001b[33mload_boston\u001b[39m\u001b[33m\"\u001b[39m:\n\u001b[32m    111\u001b[39m     msg = textwrap.dedent(\n\u001b[32m    112\u001b[39m \u001b[38;5;250m        \u001b[39m\u001b[33;03m\"\"\"\u001b[39;00m\n\u001b[32m    113\u001b[39m \u001b[33;03m        `load_boston` has been removed from scikit-learn since version 1.2.\u001b[39;00m\n\u001b[32m   (...)\u001b[39m\u001b[32m    159\u001b[39m \u001b[33;03m        \"\"\"\u001b[39;00m\n\u001b[32m    160\u001b[39m     )\n\u001b[32m--> \u001b[39m\u001b[32m161\u001b[39m     \u001b[38;5;28;01mraise\u001b[39;00m \u001b[38;5;167;01mImportError\u001b[39;00m(msg)\n\u001b[32m    162\u001b[39m \u001b[38;5;28;01mtry\u001b[39;00m:\n\u001b[32m    163\u001b[39m     \u001b[38;5;28;01mreturn\u001b[39;00m \u001b[38;5;28mglobals\u001b[39m()[name]\n",
      "\u001b[31mImportError\u001b[39m: \n`load_boston` has been removed from scikit-learn since version 1.2.\n\nThe Boston housing prices dataset has an ethical problem: as\ninvestigated in [1], the authors of this dataset engineered a\nnon-invertible variable \"B\" assuming that racial self-segregation had a\npositive impact on house prices [2]. Furthermore the goal of the\nresearch that led to the creation of this dataset was to study the\nimpact of air quality but it did not give adequate demonstration of the\nvalidity of this assumption.\n\nThe scikit-learn maintainers therefore strongly discourage the use of\nthis dataset unless the purpose of the code is to study and educate\nabout ethical issues in data science and machine learning.\n\nIn this special case, you can fetch the dataset from the original\nsource::\n\n    import pandas as pd\n    import numpy as np\n\n    data_url = \"http://lib.stat.cmu.edu/datasets/boston\"\n    raw_df = pd.read_csv(data_url, sep=\"\\s+\", skiprows=22, header=None)\n    data = np.hstack([raw_df.values[::2, :], raw_df.values[1::2, :2]])\n    target = raw_df.values[1::2, 2]\n\nAlternative datasets include the California housing dataset and the\nAmes housing dataset. You can load the datasets as follows::\n\n    from sklearn.datasets import fetch_california_housing\n    housing = fetch_california_housing()\n\nfor the California housing dataset and::\n\n    from sklearn.datasets import fetch_openml\n    housing = fetch_openml(name=\"house_prices\", as_frame=True)\n\nfor the Ames housing dataset.\n\n[1] M Carlisle.\n\"Racist data destruction?\"\n<https://medium.com/@docintangible/racist-data-destruction-113e3eff54a8>\n\n[2] Harrison Jr, David, and Daniel L. Rubinfeld.\n\"Hedonic housing prices and the demand for clean air.\"\nJournal of environmental economics and management 5.1 (1978): 81-102.\n<https://www.researchgate.net/publication/4974606_Hedonic_housing_prices_and_the_demand_for_clean_air>\n"
     ]
    }
   ],
   "source": [
    "from sklearn.datasets import load_boston\n",
    "boston = load_boston()\n",
    "print(boston.DESCR)"
   ]
  },
  {
   "cell_type": "code",
   "execution_count": 26,
   "id": "951247a1-bdcb-4021-81c6-c87ee23e8b84",
   "metadata": {},
   "outputs": [],
   "source": [
    "import numpy as np\n",
    "data_url = \"http://lib.stat.cmu.edu/datasets/boston\"\n",
    "raw_df = pd.read_csv(data_url, sep=\"\\\\s+\", skiprows=22, header=None)\n",
    "data = np.hstack([raw_df.values[::2, :], raw_df.values[1::2,:2]])\n",
    "target = raw_df.values[1::2,2]"
   ]
  },
  {
   "cell_type": "code",
   "execution_count": 27,
   "id": "b658ea15-8005-4472-97d9-c7920b473fd5",
   "metadata": {},
   "outputs": [
    {
     "data": {
      "text/html": [
       "<div>\n",
       "<style scoped>\n",
       "    .dataframe tbody tr th:only-of-type {\n",
       "        vertical-align: middle;\n",
       "    }\n",
       "\n",
       "    .dataframe tbody tr th {\n",
       "        vertical-align: top;\n",
       "    }\n",
       "\n",
       "    .dataframe thead th {\n",
       "        text-align: right;\n",
       "    }\n",
       "</style>\n",
       "<table border=\"1\" class=\"dataframe\">\n",
       "  <thead>\n",
       "    <tr style=\"text-align: right;\">\n",
       "      <th></th>\n",
       "      <th>0</th>\n",
       "      <th>1</th>\n",
       "      <th>2</th>\n",
       "      <th>3</th>\n",
       "      <th>4</th>\n",
       "      <th>5</th>\n",
       "      <th>6</th>\n",
       "      <th>7</th>\n",
       "      <th>8</th>\n",
       "      <th>9</th>\n",
       "      <th>10</th>\n",
       "    </tr>\n",
       "  </thead>\n",
       "  <tbody>\n",
       "    <tr>\n",
       "      <th>0</th>\n",
       "      <td>0.00632</td>\n",
       "      <td>18.00</td>\n",
       "      <td>2.31</td>\n",
       "      <td>0.0</td>\n",
       "      <td>0.538</td>\n",
       "      <td>6.575</td>\n",
       "      <td>65.2</td>\n",
       "      <td>4.0900</td>\n",
       "      <td>1.0</td>\n",
       "      <td>296.0</td>\n",
       "      <td>15.3</td>\n",
       "    </tr>\n",
       "    <tr>\n",
       "      <th>1</th>\n",
       "      <td>396.90000</td>\n",
       "      <td>4.98</td>\n",
       "      <td>24.00</td>\n",
       "      <td>NaN</td>\n",
       "      <td>NaN</td>\n",
       "      <td>NaN</td>\n",
       "      <td>NaN</td>\n",
       "      <td>NaN</td>\n",
       "      <td>NaN</td>\n",
       "      <td>NaN</td>\n",
       "      <td>NaN</td>\n",
       "    </tr>\n",
       "    <tr>\n",
       "      <th>2</th>\n",
       "      <td>0.02731</td>\n",
       "      <td>0.00</td>\n",
       "      <td>7.07</td>\n",
       "      <td>0.0</td>\n",
       "      <td>0.469</td>\n",
       "      <td>6.421</td>\n",
       "      <td>78.9</td>\n",
       "      <td>4.9671</td>\n",
       "      <td>2.0</td>\n",
       "      <td>242.0</td>\n",
       "      <td>17.8</td>\n",
       "    </tr>\n",
       "    <tr>\n",
       "      <th>3</th>\n",
       "      <td>396.90000</td>\n",
       "      <td>9.14</td>\n",
       "      <td>21.60</td>\n",
       "      <td>NaN</td>\n",
       "      <td>NaN</td>\n",
       "      <td>NaN</td>\n",
       "      <td>NaN</td>\n",
       "      <td>NaN</td>\n",
       "      <td>NaN</td>\n",
       "      <td>NaN</td>\n",
       "      <td>NaN</td>\n",
       "    </tr>\n",
       "    <tr>\n",
       "      <th>4</th>\n",
       "      <td>0.02729</td>\n",
       "      <td>0.00</td>\n",
       "      <td>7.07</td>\n",
       "      <td>0.0</td>\n",
       "      <td>0.469</td>\n",
       "      <td>7.185</td>\n",
       "      <td>61.1</td>\n",
       "      <td>4.9671</td>\n",
       "      <td>2.0</td>\n",
       "      <td>242.0</td>\n",
       "      <td>17.8</td>\n",
       "    </tr>\n",
       "  </tbody>\n",
       "</table>\n",
       "</div>"
      ],
      "text/plain": [
       "          0      1      2    3      4      5     6       7    8      9     10\n",
       "0    0.00632  18.00   2.31  0.0  0.538  6.575  65.2  4.0900  1.0  296.0  15.3\n",
       "1  396.90000   4.98  24.00  NaN    NaN    NaN   NaN     NaN  NaN    NaN   NaN\n",
       "2    0.02731   0.00   7.07  0.0  0.469  6.421  78.9  4.9671  2.0  242.0  17.8\n",
       "3  396.90000   9.14  21.60  NaN    NaN    NaN   NaN     NaN  NaN    NaN   NaN\n",
       "4    0.02729   0.00   7.07  0.0  0.469  7.185  61.1  4.9671  2.0  242.0  17.8"
      ]
     },
     "execution_count": 27,
     "metadata": {},
     "output_type": "execute_result"
    }
   ],
   "source": [
    "raw_df.head()"
   ]
  },
  {
   "cell_type": "code",
   "execution_count": 28,
   "id": "fad90803-0db9-470b-824a-417b3faa8c7c",
   "metadata": {},
   "outputs": [
    {
     "data": {
      "text/html": [
       "<div>\n",
       "<style scoped>\n",
       "    .dataframe tbody tr th:only-of-type {\n",
       "        vertical-align: middle;\n",
       "    }\n",
       "\n",
       "    .dataframe tbody tr th {\n",
       "        vertical-align: top;\n",
       "    }\n",
       "\n",
       "    .dataframe thead th {\n",
       "        text-align: right;\n",
       "    }\n",
       "</style>\n",
       "<table border=\"1\" class=\"dataframe\">\n",
       "  <thead>\n",
       "    <tr style=\"text-align: right;\">\n",
       "      <th></th>\n",
       "      <th>0</th>\n",
       "      <th>1</th>\n",
       "      <th>2</th>\n",
       "      <th>3</th>\n",
       "      <th>4</th>\n",
       "      <th>5</th>\n",
       "      <th>6</th>\n",
       "      <th>7</th>\n",
       "      <th>8</th>\n",
       "      <th>9</th>\n",
       "      <th>10</th>\n",
       "    </tr>\n",
       "  </thead>\n",
       "  <tbody>\n",
       "    <tr>\n",
       "      <th>1007</th>\n",
       "      <td>396.90000</td>\n",
       "      <td>5.64</td>\n",
       "      <td>23.90</td>\n",
       "      <td>NaN</td>\n",
       "      <td>NaN</td>\n",
       "      <td>NaN</td>\n",
       "      <td>NaN</td>\n",
       "      <td>NaN</td>\n",
       "      <td>NaN</td>\n",
       "      <td>NaN</td>\n",
       "      <td>NaN</td>\n",
       "    </tr>\n",
       "    <tr>\n",
       "      <th>1008</th>\n",
       "      <td>0.10959</td>\n",
       "      <td>0.00</td>\n",
       "      <td>11.93</td>\n",
       "      <td>0.0</td>\n",
       "      <td>0.573</td>\n",
       "      <td>6.794</td>\n",
       "      <td>89.3</td>\n",
       "      <td>2.3889</td>\n",
       "      <td>1.0</td>\n",
       "      <td>273.0</td>\n",
       "      <td>21.0</td>\n",
       "    </tr>\n",
       "    <tr>\n",
       "      <th>1009</th>\n",
       "      <td>393.45000</td>\n",
       "      <td>6.48</td>\n",
       "      <td>22.00</td>\n",
       "      <td>NaN</td>\n",
       "      <td>NaN</td>\n",
       "      <td>NaN</td>\n",
       "      <td>NaN</td>\n",
       "      <td>NaN</td>\n",
       "      <td>NaN</td>\n",
       "      <td>NaN</td>\n",
       "      <td>NaN</td>\n",
       "    </tr>\n",
       "    <tr>\n",
       "      <th>1010</th>\n",
       "      <td>0.04741</td>\n",
       "      <td>0.00</td>\n",
       "      <td>11.93</td>\n",
       "      <td>0.0</td>\n",
       "      <td>0.573</td>\n",
       "      <td>6.030</td>\n",
       "      <td>80.8</td>\n",
       "      <td>2.5050</td>\n",
       "      <td>1.0</td>\n",
       "      <td>273.0</td>\n",
       "      <td>21.0</td>\n",
       "    </tr>\n",
       "    <tr>\n",
       "      <th>1011</th>\n",
       "      <td>396.90000</td>\n",
       "      <td>7.88</td>\n",
       "      <td>11.90</td>\n",
       "      <td>NaN</td>\n",
       "      <td>NaN</td>\n",
       "      <td>NaN</td>\n",
       "      <td>NaN</td>\n",
       "      <td>NaN</td>\n",
       "      <td>NaN</td>\n",
       "      <td>NaN</td>\n",
       "      <td>NaN</td>\n",
       "    </tr>\n",
       "  </tbody>\n",
       "</table>\n",
       "</div>"
      ],
      "text/plain": [
       "             0     1      2    3      4      5     6       7    8      9   \\\n",
       "1007  396.90000  5.64  23.90  NaN    NaN    NaN   NaN     NaN  NaN    NaN   \n",
       "1008    0.10959  0.00  11.93  0.0  0.573  6.794  89.3  2.3889  1.0  273.0   \n",
       "1009  393.45000  6.48  22.00  NaN    NaN    NaN   NaN     NaN  NaN    NaN   \n",
       "1010    0.04741  0.00  11.93  0.0  0.573  6.030  80.8  2.5050  1.0  273.0   \n",
       "1011  396.90000  7.88  11.90  NaN    NaN    NaN   NaN     NaN  NaN    NaN   \n",
       "\n",
       "        10  \n",
       "1007   NaN  \n",
       "1008  21.0  \n",
       "1009   NaN  \n",
       "1010  21.0  \n",
       "1011   NaN  "
      ]
     },
     "execution_count": 28,
     "metadata": {},
     "output_type": "execute_result"
    }
   ],
   "source": [
    "raw_df.tail()"
   ]
  },
  {
   "cell_type": "code",
   "execution_count": 29,
   "id": "041e19d7-ec61-4e22-be99-00b47c940c0a",
   "metadata": {},
   "outputs": [
    {
     "data": {
      "text/plain": [
       "array([[6.3200e-03, 1.8000e+01, 2.3100e+00, 0.0000e+00, 5.3800e-01,\n",
       "        6.5750e+00, 6.5200e+01, 4.0900e+00, 1.0000e+00, 2.9600e+02,\n",
       "        1.5300e+01, 3.9690e+02, 4.9800e+00],\n",
       "       [2.7310e-02, 0.0000e+00, 7.0700e+00, 0.0000e+00, 4.6900e-01,\n",
       "        6.4210e+00, 7.8900e+01, 4.9671e+00, 2.0000e+00, 2.4200e+02,\n",
       "        1.7800e+01, 3.9690e+02, 9.1400e+00],\n",
       "       [2.7290e-02, 0.0000e+00, 7.0700e+00, 0.0000e+00, 4.6900e-01,\n",
       "        7.1850e+00, 6.1100e+01, 4.9671e+00, 2.0000e+00, 2.4200e+02,\n",
       "        1.7800e+01, 3.9283e+02, 4.0300e+00],\n",
       "       [3.2370e-02, 0.0000e+00, 2.1800e+00, 0.0000e+00, 4.5800e-01,\n",
       "        6.9980e+00, 4.5800e+01, 6.0622e+00, 3.0000e+00, 2.2200e+02,\n",
       "        1.8700e+01, 3.9463e+02, 2.9400e+00],\n",
       "       [6.9050e-02, 0.0000e+00, 2.1800e+00, 0.0000e+00, 4.5800e-01,\n",
       "        7.1470e+00, 5.4200e+01, 6.0622e+00, 3.0000e+00, 2.2200e+02,\n",
       "        1.8700e+01, 3.9690e+02, 5.3300e+00]])"
      ]
     },
     "execution_count": 29,
     "metadata": {},
     "output_type": "execute_result"
    }
   ],
   "source": [
    "data[:5]"
   ]
  },
  {
   "cell_type": "code",
   "execution_count": 30,
   "id": "adc6df8f-3a17-461d-a33c-faacec76ac0d",
   "metadata": {},
   "outputs": [
    {
     "ename": "NameError",
     "evalue": "name 'python' is not defined",
     "output_type": "error",
     "traceback": [
      "\u001b[31m---------------------------------------------------------------------------\u001b[39m",
      "\u001b[31mNameError\u001b[39m                                 Traceback (most recent call last)",
      "\u001b[36mCell\u001b[39m\u001b[36m \u001b[39m\u001b[32mIn[30]\u001b[39m\u001b[32m, line 1\u001b[39m\n\u001b[32m----> \u001b[39m\u001b[32m1\u001b[39m \u001b[43mpython\u001b[49m --version\n",
      "\u001b[31mNameError\u001b[39m: name 'python' is not defined"
     ]
    }
   ],
   "source": []
  },
  {
   "cell_type": "code",
   "execution_count": null,
   "id": "2f94f946-4343-419f-af7d-553b3eaa0883",
   "metadata": {},
   "outputs": [],
   "source": []
  }
 ],
 "metadata": {
  "kernelspec": {
   "display_name": "Python 3 (ipykernel)",
   "language": "python",
   "name": "python3"
  },
  "language_info": {
   "codemirror_mode": {
    "name": "ipython",
    "version": 3
   },
   "file_extension": ".py",
   "mimetype": "text/x-python",
   "name": "python",
   "nbconvert_exporter": "python",
   "pygments_lexer": "ipython3",
   "version": "3.13.7"
  }
 },
 "nbformat": 4,
 "nbformat_minor": 5
}
