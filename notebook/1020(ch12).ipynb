{
 "cells": [
  {
   "cell_type": "markdown",
   "id": "7c910b2a-5dc7-4be1-9861-a431c28436c2",
   "metadata": {},
   "source": [
    "### 오버피팅\n",
    "- 학습 오차가 일반화 오차에 비해서 현격하게 낮아지는 현상\n",
    "  - 학습 데이터의 편향이나 노이즈까지 학습한 경우\n",
    "\n",
    "### 언더피팅\n",
    "- 모델이 충분히 데이터를 학습하지 못하여 학습 오차가 충분히 낮지 않은 현상\n",
    "  - 모델의 표현력(수용능력) 부족으로 데이터의 복잡한 관계를 학습하지 못하는 경우\n",
    "  - 학습량(에폭)이 부족하거나 최적화 과정에서 복잡한 손실 표면을 잘 헤쳐나가지 못하는 경우"
   ]
  },
  {
   "cell_type": "markdown",
   "id": "957b80cc-27e3-46ed-aef4-8a6810c67234",
   "metadata": {},
   "source": [
    "## 검증 데이터 셋\n",
    "- 학습 진행\n",
    "  - 언데 피팅 -> 최적 -> 오버피팅\n",
    "  - 오버피팅 직전에 학습을 멈추면 이론적으로 가장 이상적임\n",
    "- 학습을 언제 끝낼 것인지를 어떻게 알 수 있을까? -> 검증 데이터로 확인\n",
    "  - 검증 데이터의 손실이 최소일 때 학습 종료"
   ]
  },
  {
   "cell_type": "code",
   "execution_count": null,
   "id": "fc4b9ddd-ef65-4655-aa2f-a069376d765e",
   "metadata": {},
   "outputs": [],
   "source": []
  }
 ],
 "metadata": {
  "kernelspec": {
   "display_name": "Python 3 (ipykernel)",
   "language": "python",
   "name": "python3"
  },
  "language_info": {
   "codemirror_mode": {
    "name": "ipython",
    "version": 3
   },
   "file_extension": ".py",
   "mimetype": "text/x-python",
   "name": "python",
   "nbconvert_exporter": "python",
   "pygments_lexer": "ipython3",
   "version": "3.13.7"
  }
 },
 "nbformat": 4,
 "nbformat_minor": 5
}
