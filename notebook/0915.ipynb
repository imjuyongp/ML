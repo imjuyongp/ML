{
 "cells": [
  {
   "cell_type": "code",
   "execution_count": 1,
   "id": "80c9525e-4461-4726-b38e-c738ef23c390",
   "metadata": {},
   "outputs": [],
   "source": [
    "import torch # 파이토치 모듈 불러오기"
   ]
  },
  {
   "cell_type": "code",
   "execution_count": 2,
   "id": "0804076a-1a05-4947-a769-09ca9af39931",
   "metadata": {},
   "outputs": [],
   "source": [
    "# 2차원 리스트로 실수형 텐서 만들기\n",
    "ft = torch.FloatTensor([[1,2],\n",
    "                       [3,4]])"
   ]
  },
  {
   "cell_type": "code",
   "execution_count": 3,
   "id": "0954d689-2cba-4e61-b8d9-0b8c6229e15e",
   "metadata": {},
   "outputs": [
    {
     "data": {
      "text/plain": [
       "tensor([[1., 2.],\n",
       "        [3., 4.]])"
      ]
     },
     "execution_count": 3,
     "metadata": {},
     "output_type": "execute_result"
    }
   ],
   "source": [
    "ft"
   ]
  },
  {
   "cell_type": "code",
   "execution_count": 6,
   "id": "af1a8a94-1220-4505-905a-900f5f37fceb",
   "metadata": {},
   "outputs": [
    {
     "data": {
      "text/plain": [
       "tensor([[1, 2],\n",
       "        [3, 4]])"
      ]
     },
     "execution_count": 6,
     "metadata": {},
     "output_type": "execute_result"
    }
   ],
   "source": [
    "lt = torch.LongTensor([[1,2],\n",
    "                        [3,4]])\n",
    "lt"
   ]
  },
  {
   "cell_type": "code",
   "execution_count": 8,
   "id": "aa866ad0-5522-4a60-8075-46589446286c",
   "metadata": {},
   "outputs": [
    {
     "data": {
      "text/plain": [
       "tensor([[0., 0.],\n",
       "        [0., 0.],\n",
       "        [0., 0.]])"
      ]
     },
     "execution_count": 8,
     "metadata": {},
     "output_type": "execute_result"
    }
   ],
   "source": [
    "x = torch.FloatTensor(3,2) #3행 2열\n",
    "x"
   ]
  },
  {
   "cell_type": "code",
   "execution_count": 9,
   "id": "bb5b2a9a-8023-473b-8dd8-475132d30cf7",
   "metadata": {},
   "outputs": [],
   "source": [
    "import numpy as np"
   ]
  },
  {
   "cell_type": "code",
   "execution_count": 10,
   "id": "7c531285-ec28-4e07-954a-b2a3a36dd694",
   "metadata": {},
   "outputs": [
    {
     "name": "stdout",
     "output_type": "stream",
     "text": [
      "[[1 2]\n",
      " [3 4]] <class 'numpy.ndarray'>\n"
     ]
    }
   ],
   "source": [
    "x = np.array([[1,2],\n",
    "              [3,4]])\n",
    "print(x,type(x))"
   ]
  },
  {
   "cell_type": "code",
   "execution_count": 11,
   "id": "be930993-2292-4c98-a41b-9845b4f54b7d",
   "metadata": {},
   "outputs": [
    {
     "data": {
      "text/plain": [
       "array([[1, 2],\n",
       "       [3, 4]])"
      ]
     },
     "execution_count": 11,
     "metadata": {},
     "output_type": "execute_result"
    }
   ],
   "source": [
    "x"
   ]
  },
  {
   "cell_type": "code",
   "execution_count": 12,
   "id": "52d23be2-9778-4a66-81b6-985776e90836",
   "metadata": {},
   "outputs": [
    {
     "name": "stdout",
     "output_type": "stream",
     "text": [
      "tensor([[1, 2],\n",
      "        [3, 4]]) <class 'torch.Tensor'>\n"
     ]
    }
   ],
   "source": [
    "# 넘파이의 ndarray를 파이토치의 텐서로 변환\n",
    "x = torch.from_numpy(x)\n",
    "print(x,type(x))"
   ]
  },
  {
   "cell_type": "code",
   "execution_count": 14,
   "id": "6a21ac8b-3261-421c-abb5-6fdc668dfd04",
   "metadata": {},
   "outputs": [
    {
     "ename": "AttributeError",
     "evalue": "'numpy.ndarray' object has no attribute 'numpy'",
     "output_type": "error",
     "traceback": [
      "\u001b[31m---------------------------------------------------------------------------\u001b[39m",
      "\u001b[31mAttributeError\u001b[39m                            Traceback (most recent call last)",
      "\u001b[36mCell\u001b[39m\u001b[36m \u001b[39m\u001b[32mIn[14]\u001b[39m\u001b[32m, line 2\u001b[39m\n\u001b[32m      1\u001b[39m \u001b[38;5;66;03m#텐서를 ndarray로 변환\u001b[39;00m\n\u001b[32m----> \u001b[39m\u001b[32m2\u001b[39m x = \u001b[43mx\u001b[49m\u001b[43m.\u001b[49m\u001b[43mnumpy\u001b[49m()\n\u001b[32m      3\u001b[39m \u001b[38;5;28mprint\u001b[39m(x,\u001b[38;5;28mtype\u001b[39m(x))\n",
      "\u001b[31mAttributeError\u001b[39m: 'numpy.ndarray' object has no attribute 'numpy'"
     ]
    }
   ],
   "source": [
    "#텐서를 ndarray로 변환\n",
    "x = x.numpy()\n",
    "print(x,type(x))"
   ]
  },
  {
   "cell_type": "code",
   "execution_count": 15,
   "id": "c672ee0c-d0f7-4942-9c4e-e8fc1a87acc6",
   "metadata": {},
   "outputs": [
    {
     "data": {
      "text/plain": [
       "tensor([[1, 2],\n",
       "        [3, 4]])"
      ]
     },
     "execution_count": 15,
     "metadata": {},
     "output_type": "execute_result"
    }
   ],
   "source": [
    "ft"
   ]
  },
  {
   "cell_type": "code",
   "execution_count": 16,
   "id": "1d07fb84-ed52-44a1-8c37-652e240fa758",
   "metadata": {},
   "outputs": [
    {
     "data": {
      "text/plain": [
       "tensor([[1, 2],\n",
       "        [3, 4]])"
      ]
     },
     "execution_count": 16,
     "metadata": {},
     "output_type": "execute_result"
    }
   ],
   "source": [
    "ft.long()"
   ]
  },
  {
   "cell_type": "code",
   "execution_count": 17,
   "id": "a730a872-c8a1-4b3b-8c1a-653df8264066",
   "metadata": {},
   "outputs": [
    {
     "data": {
      "text/plain": [
       "tensor([[[ 1.,  2.],\n",
       "         [ 3.,  4.]],\n",
       "\n",
       "        [[ 5.,  6.],\n",
       "         [ 7.,  8.]],\n",
       "\n",
       "        [[ 9., 10.],\n",
       "         [11., 12.]]])"
      ]
     },
     "execution_count": 17,
     "metadata": {},
     "output_type": "execute_result"
    }
   ],
   "source": [
    "# 텐서의 크기를 구하는 방법\n",
    "# 3x2x2 텐서 x를 선언\n",
    "x = torch.FloatTensor([[[1,2],[3,4]],\n",
    "                        [[5,6],[7,8]],\n",
    "                       [[9,10],[11,12]]])\n",
    "x              "
   ]
  },
  {
   "cell_type": "code",
   "execution_count": 22,
   "id": "5903b565-58ab-4fdd-ac21-ea034f993bb2",
   "metadata": {},
   "outputs": [
    {
     "name": "stdout",
     "output_type": "stream",
     "text": [
      "torch.Size([3, 2, 2])\n",
      "torch.Size([3, 2, 2])\n"
     ]
    }
   ],
   "source": [
    "print(x.size()) # 크기 메소드\n",
    "print(x.shape) # 크기 속성"
   ]
  },
  {
   "cell_type": "code",
   "execution_count": 23,
   "id": "adad4708-543c-405c-bd02-890e8630239c",
   "metadata": {},
   "outputs": [
    {
     "ename": "NameError",
     "evalue": "name 'y' is not defined",
     "output_type": "error",
     "traceback": [
      "\u001b[31m---------------------------------------------------------------------------\u001b[39m",
      "\u001b[31mNameError\u001b[39m                                 Traceback (most recent call last)",
      "\u001b[36mCell\u001b[39m\u001b[36m \u001b[39m\u001b[32mIn[23]\u001b[39m\u001b[32m, line 1\u001b[39m\n\u001b[32m----> \u001b[39m\u001b[32m1\u001b[39m \u001b[38;5;28mprint\u001b[39m(\u001b[43my\u001b[49m.size())\n",
      "\u001b[31mNameError\u001b[39m: name 'y' is not defined"
     ]
    }
   ],
   "source": [
    "print(y.size()) # numpy에는 size()메서드가 없음\n",
    "print(y.shape) # numpy의 shape은 튜플 형태임"
   ]
  },
  {
   "cell_type": "code",
   "execution_count": 29,
   "id": "b58d5165-7e37-4013-8903-2b4d42706120",
   "metadata": {},
   "outputs": [
    {
     "name": "stdout",
     "output_type": "stream",
     "text": [
      "3\n",
      "3\n"
     ]
    }
   ],
   "source": [
    "print(x.dim())\n",
    "print(len(x.size()))"
   ]
  },
  {
   "cell_type": "code",
   "execution_count": 45,
   "id": "4cf578de-3042-4da9-8a1f-a1681580c182",
   "metadata": {},
   "outputs": [
    {
     "data": {
      "text/plain": [
       "tensor([[1., 2.],\n",
       "        [3., 4.]])"
      ]
     },
     "execution_count": 45,
     "metadata": {},
     "output_type": "execute_result"
    }
   ],
   "source": [
    "a = torch.FloatTensor([[1,2],\n",
    "                       [3,4]])\n",
    "b = torch.FloatTensor([[2,2],\n",
    "                       [3,3]])\n",
    "a"
   ]
  },
  {
   "cell_type": "code",
   "execution_count": 31,
   "id": "9cb74151-88da-4e73-a57f-2e543c137c39",
   "metadata": {},
   "outputs": [
    {
     "data": {
      "text/plain": [
       "tensor([[3., 4.],\n",
       "        [6., 7.]])"
      ]
     },
     "execution_count": 31,
     "metadata": {},
     "output_type": "execute_result"
    }
   ],
   "source": [
    "a + b"
   ]
  },
  {
   "cell_type": "code",
   "execution_count": 32,
   "id": "0171eeb8-db99-40dc-ac71-5dcc212092a5",
   "metadata": {},
   "outputs": [
    {
     "data": {
      "text/plain": [
       "tensor([[-1.,  0.],\n",
       "        [ 0.,  1.]])"
      ]
     },
     "execution_count": 32,
     "metadata": {},
     "output_type": "execute_result"
    }
   ],
   "source": [
    "a - b"
   ]
  },
  {
   "cell_type": "code",
   "execution_count": 33,
   "id": "be7056d9-dabb-4b14-a6a7-4e4bdac0a0f4",
   "metadata": {},
   "outputs": [
    {
     "data": {
      "text/plain": [
       "tensor([[False,  True],\n",
       "        [ True, False]])"
      ]
     },
     "execution_count": 33,
     "metadata": {},
     "output_type": "execute_result"
    }
   ],
   "source": [
    "a == b"
   ]
  },
  {
   "cell_type": "code",
   "execution_count": 34,
   "id": "41dbdc7f-d5ee-49e6-b1ba-812bffb8d355",
   "metadata": {},
   "outputs": [
    {
     "data": {
      "text/plain": [
       "tensor([[False, False],\n",
       "        [False,  True]])"
      ]
     },
     "execution_count": 34,
     "metadata": {},
     "output_type": "execute_result"
    }
   ],
   "source": [
    "a > b"
   ]
  },
  {
   "cell_type": "code",
   "execution_count": 47,
   "id": "bd6a6b4a-1f5d-49b8-8be9-a84c50ee8ae8",
   "metadata": {},
   "outputs": [
    {
     "name": "stdout",
     "output_type": "stream",
     "text": [
      "tensor([[ 2.,  4.],\n",
      "        [ 9., 12.]])\n"
     ]
    }
   ],
   "source": [
    "# 인플레이스(in-place) 연산\n",
    "# 함수명 다음에 밑줄이 붙음\n",
    "# 연산한 결과가 새로운 메모리에 할당되지 않고 원래 변수(텐서)에 저장됨\n",
    "print(a.mul(b))"
   ]
  },
  {
   "cell_type": "code",
   "execution_count": 48,
   "id": "0a444d55-364e-42c2-ba64-b0239b188417",
   "metadata": {},
   "outputs": [
    {
     "data": {
      "text/plain": [
       "tensor([[[ 1,  2],\n",
       "         [ 3,  4]],\n",
       "\n",
       "        [[ 5,  6],\n",
       "         [ 7,  8]],\n",
       "\n",
       "        [[ 9, 10],\n",
       "         [11, 12]]])"
      ]
     },
     "execution_count": 48,
     "metadata": {},
     "output_type": "execute_result"
    }
   ],
   "source": [
    "x = torch.from_numpy(np.arange(1,13).reshape(3,2,2))\n",
    "x"
   ]
  },
  {
   "cell_type": "code",
   "execution_count": 49,
   "id": "8ccc4cc9-adcf-471b-8689-93c1020c7ef3",
   "metadata": {},
   "outputs": [
    {
     "data": {
      "text/plain": [
       "tensor([ 1,  2,  3,  4,  5,  6,  7,  8,  9, 10, 11, 12])"
      ]
     },
     "execution_count": 49,
     "metadata": {},
     "output_type": "execute_result"
    }
   ],
   "source": [
    "x.view(12)"
   ]
  },
  {
   "cell_type": "code",
   "execution_count": 50,
   "id": "12752d0c-6596-471d-9b61-6d4622d6f3cd",
   "metadata": {},
   "outputs": [
    {
     "data": {
      "text/plain": [
       "tensor([[ 1,  2,  3,  4],\n",
       "        [ 5,  6,  7,  8],\n",
       "        [ 9, 10, 11, 12]])"
      ]
     },
     "execution_count": 50,
     "metadata": {},
     "output_type": "execute_result"
    }
   ],
   "source": [
    "x.view(3,-1)"
   ]
  },
  {
   "cell_type": "code",
   "execution_count": 51,
   "id": "fed79a5e-8543-40ab-9b9e-fef276e51a2e",
   "metadata": {},
   "outputs": [
    {
     "data": {
      "text/plain": [
       "True"
      ]
     },
     "execution_count": 51,
     "metadata": {},
     "output_type": "execute_result"
    }
   ],
   "source": [
    "# view()함수의 결과는 텐서의 주소를 바꾸지 않음\n",
    "x.view(3,4)\n",
    "y = x.view(3,4)\n",
    "x.data_ptr() == y.data_ptr()"
   ]
  },
  {
   "cell_type": "code",
   "execution_count": 52,
   "id": "36ee6682-ead9-4448-957a-3e221ae721ef",
   "metadata": {},
   "outputs": [
    {
     "data": {
      "text/plain": [
       "tensor([[100,   2,   3,   4],\n",
       "        [  5,   6,   7,   8],\n",
       "        [  9,  10,  11,  12]])"
      ]
     },
     "execution_count": 52,
     "metadata": {},
     "output_type": "execute_result"
    }
   ],
   "source": [
    "# 따라서 y의 값을 바꾸면 x의 값도 바뀐다\n",
    "y[0][0] = 100\n",
    "y"
   ]
  },
  {
   "cell_type": "code",
   "execution_count": 53,
   "id": "dd5571d9-2b3b-41a7-a2ea-10bbec5e3254",
   "metadata": {},
   "outputs": [
    {
     "data": {
      "text/plain": [
       "tensor([[[100,   2],\n",
       "         [  3,   4]],\n",
       "\n",
       "        [[  5,   6],\n",
       "         [  7,   8]],\n",
       "\n",
       "        [[  9,  10],\n",
       "         [ 11,  12]]])"
      ]
     },
     "execution_count": 53,
     "metadata": {},
     "output_type": "execute_result"
    }
   ],
   "source": [
    "x"
   ]
  },
  {
   "cell_type": "code",
   "execution_count": 55,
   "id": "dd821a8c-ac69-4db3-ac05-7da645f2fb47",
   "metadata": {},
   "outputs": [
    {
     "data": {
      "text/plain": [
       "tensor([100,   2,   3,   4,   5,   6,   7,   8,   9,  10,  11,  12])"
      ]
     },
     "execution_count": 55,
     "metadata": {},
     "output_type": "execute_result"
    }
   ],
   "source": [
    "# 순차적으로 선언된(contoguous) 텐서가 아닐 경우 view함수는 오류를 발생시킴\n",
    "# 오류를 방지하기 위해서는 다음과 같이 해야함\n",
    "x.contiguous().view(-1)\n",
    "x.reshape(-1)"
   ]
  },
  {
   "cell_type": "code",
   "execution_count": 57,
   "id": "99cba7ca-8357-4b55-a02a-8ca21941e058",
   "metadata": {},
   "outputs": [
    {
     "name": "stdout",
     "output_type": "stream",
     "text": [
      "4544615744\n",
      "4544615748\n",
      "4544615752\n",
      "4544615756\n"
     ]
    }
   ],
   "source": [
    "x = torch.FloatTensor([[1,2],\n",
    "                       [3,4]])\n",
    "for i in range(2):\n",
    "    for j in range(2):\n",
    "        print(x[i][j].data_ptr())"
   ]
  },
  {
   "cell_type": "code",
   "execution_count": 58,
   "id": "4bf0534a-b356-495f-a6fb-8b4ea340da3e",
   "metadata": {},
   "outputs": [
    {
     "data": {
      "text/plain": [
       "(2, 1)"
      ]
     },
     "execution_count": 58,
     "metadata": {},
     "output_type": "execute_result"
    }
   ],
   "source": [
    "x.stride()"
   ]
  },
  {
   "cell_type": "code",
   "execution_count": 60,
   "id": "abe2d1f6-208e-44f4-902a-1bffb1a7e47b",
   "metadata": {},
   "outputs": [
    {
     "data": {
      "text/plain": [
       "torch.Size([1, 2, 2])"
      ]
     },
     "execution_count": 60,
     "metadata": {},
     "output_type": "execute_result"
    }
   ],
   "source": [
    "# squeeze 함수 \n",
    "# 차원의 크기가 1인 차원을 제거함\n",
    "x = torch.FloatTensor([[[1,2],[3,4]]])\n",
    "x.size()"
   ]
  },
  {
   "cell_type": "code",
   "execution_count": 61,
   "id": "83f84e7e-c2ae-4951-855a-6ad4ce3bccbd",
   "metadata": {},
   "outputs": [
    {
     "data": {
      "text/plain": [
       "tensor([[1., 2.],\n",
       "        [3., 4.]])"
      ]
     },
     "execution_count": 61,
     "metadata": {},
     "output_type": "execute_result"
    }
   ],
   "source": [
    "x.squeeze()"
   ]
  },
  {
   "cell_type": "code",
   "execution_count": 62,
   "id": "53652103-3a3b-470f-8d6a-c6b646969ea8",
   "metadata": {},
   "outputs": [
    {
     "data": {
      "text/plain": [
       "torch.Size([2, 2])"
      ]
     },
     "execution_count": 62,
     "metadata": {},
     "output_type": "execute_result"
    }
   ],
   "source": [
    "x.squeeze().size()"
   ]
  },
  {
   "cell_type": "code",
   "execution_count": 63,
   "id": "fb72aeb5-604f-40ea-b862-bec39934555e",
   "metadata": {},
   "outputs": [
    {
     "name": "stdout",
     "output_type": "stream",
     "text": [
      "torch.Size([1, 2, 2])\n"
     ]
    }
   ],
   "source": [
    "# 원하는 차원을 지정해서 차원을 제거할 수 있음\n",
    "print(x.squeeze(1).size())"
   ]
  },
  {
   "cell_type": "code",
   "execution_count": 66,
   "id": "0a5c0773-1eb7-4c8d-80ee-abbd90fe3ca5",
   "metadata": {},
   "outputs": [
    {
     "name": "stdout",
     "output_type": "stream",
     "text": [
      "tensor([[[1.],\n",
      "         [2.],\n",
      "         [3.]],\n",
      "\n",
      "        [[4.],\n",
      "         [5.],\n",
      "         [6.]]])\n"
     ]
    }
   ],
   "source": [
    "a = torch.FloatTensor([[[1],[2],[3]],[[4],[5],[6]]])\n",
    "print(a)"
   ]
  },
  {
   "cell_type": "code",
   "execution_count": 68,
   "id": "b445e463-941f-4489-a862-cc55c9df8c24",
   "metadata": {},
   "outputs": [
    {
     "name": "stdout",
     "output_type": "stream",
     "text": [
      "tensor([[1., 4.],\n",
      "        [2., 5.],\n",
      "        [3., 6.]])\n"
     ]
    }
   ],
   "source": [
    "b = a.squeeze()\n",
    "c = b.T\n",
    "print(c)"
   ]
  },
  {
   "cell_type": "code",
   "execution_count": 72,
   "id": "21fdb0f7-60e5-41e7-b93f-53afcac4139a",
   "metadata": {},
   "outputs": [
    {
     "name": "stdout",
     "output_type": "stream",
     "text": [
      "tensor([[[1., 4.],\n",
      "         [2., 5.],\n",
      "         [3., 6.]]])\n"
     ]
    }
   ],
   "source": [
    "d = c.unsqueeze(0) # 맨 바깥에 차원을 하나 늘림\n",
    "print(d)"
   ]
  },
  {
   "cell_type": "code",
   "execution_count": 75,
   "id": "221dbe2e-8715-4c1c-8563-1be524eef181",
   "metadata": {},
   "outputs": [
    {
     "name": "stdout",
     "output_type": "stream",
     "text": [
      "torch.Size([0, 1, 2])\n"
     ]
    },
    {
     "data": {
      "text/plain": [
       "tensor([[[1., 2.],\n",
       "         [3., 4.]]])"
      ]
     },
     "execution_count": 75,
     "metadata": {},
     "output_type": "execute_result"
    }
   ],
   "source": [
    "print(x[1:2,1:,:].size())\n",
    "x"
   ]
  },
  {
   "cell_type": "code",
   "execution_count": 77,
   "id": "6249bb8c-f58d-4cc6-87c1-a7dd7caf7187",
   "metadata": {},
   "outputs": [
    {
     "name": "stdout",
     "output_type": "stream",
     "text": [
      "torch.Size([3, 2, 2])\n"
     ]
    }
   ],
   "source": [
    "x = torch.FloatTensor([[[1,2],\n",
    "                        [3,4]],\n",
    "                       [[5,6],\n",
    "                        [7,8]],\n",
    "                       [[9,10],\n",
    "                        [11,12]]])\n",
    "print(x.size())\n",
    "                        "
   ]
  },
  {
   "cell_type": "code",
   "execution_count": null,
   "id": "1c425d5a-4937-43f2-8eb1-6fafd5320864",
   "metadata": {},
   "outputs": [],
   "source": []
  }
 ],
 "metadata": {
  "kernelspec": {
   "display_name": "Python 3 (ipykernel)",
   "language": "python",
   "name": "python3"
  },
  "language_info": {
   "codemirror_mode": {
    "name": "ipython",
    "version": 3
   },
   "file_extension": ".py",
   "mimetype": "text/x-python",
   "name": "python",
   "nbconvert_exporter": "python",
   "pygments_lexer": "ipython3",
   "version": "3.13.7"
  }
 },
 "nbformat": 4,
 "nbformat_minor": 5
}
