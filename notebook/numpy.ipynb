{
 "cells": [
  {
   "cell_type": "code",
   "execution_count": 19,
   "id": "47f73dd5-80c6-41a0-9dda-89892c46c9f2",
   "metadata": {},
   "outputs": [
    {
     "data": {
      "text/plain": [
       "array([1, 2, 3, 4])"
      ]
     },
     "execution_count": 19,
     "metadata": {},
     "output_type": "execute_result"
    }
   ],
   "source": [
    "import numpy as np\n",
    "a = np.array([1,2,3,4])\n",
    "a"
   ]
  },
  {
   "cell_type": "code",
   "execution_count": 20,
   "id": "390306a3-308a-4652-bcf5-8e3192b30f77",
   "metadata": {},
   "outputs": [
    {
     "data": {
      "text/plain": [
       "dtype('int64')"
      ]
     },
     "execution_count": 20,
     "metadata": {},
     "output_type": "execute_result"
    }
   ],
   "source": [
    "a.dtype"
   ]
  },
  {
   "cell_type": "code",
   "execution_count": 21,
   "id": "0267c363-e6e7-4d2c-9192-9b78a1d1c0d9",
   "metadata": {},
   "outputs": [
    {
     "data": {
      "text/plain": [
       "array([1.  , 2.  , 3.14, 4.  ])"
      ]
     },
     "execution_count": 21,
     "metadata": {},
     "output_type": "execute_result"
    }
   ],
   "source": [
    "a = np.array([1,2,3.14,4])\n",
    "a"
   ]
  },
  {
   "cell_type": "code",
   "execution_count": 22,
   "id": "c31511fc-a830-4f61-8850-03b9412e6555",
   "metadata": {},
   "outputs": [
    {
     "data": {
      "text/plain": [
       "dtype('float64')"
      ]
     },
     "execution_count": 22,
     "metadata": {},
     "output_type": "execute_result"
    }
   ],
   "source": [
    "a.dtype # 요소 중에 실수가 섞여 잇으면 실수 배열이 생성됨"
   ]
  },
  {
   "cell_type": "code",
   "execution_count": 23,
   "id": "f742b859-f1a4-4a1a-ad82-204c761416d6",
   "metadata": {},
   "outputs": [
    {
     "data": {
      "text/plain": [
       "(4,)"
      ]
     },
     "execution_count": 23,
     "metadata": {},
     "output_type": "execute_result"
    }
   ],
   "source": [
    "a.shape # 1행 4열"
   ]
  },
  {
   "cell_type": "markdown",
   "id": "c40a16b3-c794-43af-b44c-3133140f0880",
   "metadata": {},
   "source": [
    "- shpae 속성은 튜플로 표기되기 때문에 일차원 배열의 차원은 이렇게 콤마가 붙어서 나타남\n",
    "- 1차원 배열은 행,열 개념이 없음 (그냥 4개의 원소)"
   ]
  },
  {
   "cell_type": "code",
   "execution_count": 24,
   "id": "ae8c04bf-f077-423b-b404-73cbfc263151",
   "metadata": {},
   "outputs": [
    {
     "data": {
      "text/plain": [
       "array([[1, 2, 3, 4],\n",
       "       [5, 6, 7, 8]])"
      ]
     },
     "execution_count": 24,
     "metadata": {},
     "output_type": "execute_result"
    }
   ],
   "source": [
    "b = np.array([[1,2,3,4],[5,6,7,8]])\n",
    "b"
   ]
  },
  {
   "cell_type": "code",
   "execution_count": 25,
   "id": "74cf20b5-7686-4294-971e-29afaab97715",
   "metadata": {},
   "outputs": [
    {
     "data": {
      "text/plain": [
       "(2, 4)"
      ]
     },
     "execution_count": 25,
     "metadata": {},
     "output_type": "execute_result"
    }
   ],
   "source": [
    "b.shape # 2행 4열"
   ]
  },
  {
   "cell_type": "code",
   "execution_count": 26,
   "id": "625c30ab-1a14-4289-8246-3f4e7112056d",
   "metadata": {},
   "outputs": [
    {
     "data": {
      "text/plain": [
       "array([[1],\n",
       "       [2],\n",
       "       [3],\n",
       "       [4]])"
      ]
     },
     "execution_count": 26,
     "metadata": {},
     "output_type": "execute_result"
    }
   ],
   "source": [
    "c = np.array([[1],[2],[3],[4]])\n",
    "c"
   ]
  },
  {
   "cell_type": "code",
   "execution_count": 27,
   "id": "1df300d5-1c87-4e5a-8af8-684f0a442184",
   "metadata": {},
   "outputs": [
    {
     "data": {
      "text/plain": [
       "(4, 1)"
      ]
     },
     "execution_count": 27,
     "metadata": {},
     "output_type": "execute_result"
    }
   ],
   "source": [
    "c.shape # 4행 1열"
   ]
  },
  {
   "cell_type": "markdown",
   "id": "85d867f3-fe80-4da0-ac3d-98879fe426bd",
   "metadata": {},
   "source": [
    "### (4,1) 배열을 쉽게 만드는 방법\n",
    "- (1,4) 배열을 만든 다음 전치(Transpose) 행렬 변환"
   ]
  },
  {
   "cell_type": "code",
   "execution_count": 30,
   "id": "e32a3394-25ac-44f6-8260-267199c2ec57",
   "metadata": {},
   "outputs": [
    {
     "data": {
      "text/plain": [
       "array([[1, 2, 3, 4]])"
      ]
     },
     "execution_count": 30,
     "metadata": {},
     "output_type": "execute_result"
    }
   ],
   "source": [
    "d = np.array([[1,2,3,4,]])\n",
    "d"
   ]
  },
  {
   "cell_type": "code",
   "execution_count": 31,
   "id": "40afc4d6-c231-403b-a577-c09bbb7a720e",
   "metadata": {},
   "outputs": [
    {
     "data": {
      "text/plain": [
       "array([[1],\n",
       "       [2],\n",
       "       [3],\n",
       "       [4]])"
      ]
     },
     "execution_count": 31,
     "metadata": {},
     "output_type": "execute_result"
    }
   ],
   "source": [
    "d.T # 전치 행렬"
   ]
  },
  {
   "cell_type": "markdown",
   "id": "ed342e9e-2cfe-4596-b573-b20578b55950",
   "metadata": {},
   "source": []
  },
  {
   "cell_type": "code",
   "execution_count": null,
   "id": "fb986550-1b54-4248-8ae4-f0d352b1f065",
   "metadata": {},
   "outputs": [],
   "source": []
  }
 ],
 "metadata": {
  "kernelspec": {
   "display_name": "Python 3 (ipykernel)",
   "language": "python",
   "name": "python3"
  },
  "language_info": {
   "codemirror_mode": {
    "name": "ipython",
    "version": 3
   },
   "file_extension": ".py",
   "mimetype": "text/x-python",
   "name": "python",
   "nbconvert_exporter": "python",
   "pygments_lexer": "ipython3",
   "version": "3.13.7"
  }
 },
 "nbformat": 4,
 "nbformat_minor": 5
}
