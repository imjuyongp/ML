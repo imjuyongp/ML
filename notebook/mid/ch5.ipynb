{
 "cells": [
  {
   "cell_type": "code",
   "execution_count": 1,
   "id": "2bedae2b-26b4-4bde-85b9-f08274f68786",
   "metadata": {},
   "outputs": [],
   "source": [
    "import torch\n",
    "import torch.nn as nn"
   ]
  },
  {
   "cell_type": "code",
   "execution_count": 2,
   "id": "e5b6cfa5-3493-4ca5-bbd7-7bece603edf5",
   "metadata": {},
   "outputs": [],
   "source": [
    "def mse(x_hat, x):\n",
    "    y = ((x - x_hat)**2).mean()\n",
    "    return y"
   ]
  },
  {
   "cell_type": "code",
   "execution_count": 3,
   "id": "9d06a3c2-76ac-4796-9f29-143c45c90fe5",
   "metadata": {},
   "outputs": [],
   "source": [
    "x = torch.FloatTensor([[1,1],\n",
    "                       [2,2]])"
   ]
  },
  {
   "cell_type": "code",
   "execution_count": 4,
   "id": "2d7a4a4c-0a96-4acb-ae03-cae0ace93fb5",
   "metadata": {},
   "outputs": [],
   "source": [
    "x_hat = torch.FloatTensor([[0,0],[0,0]])"
   ]
  },
  {
   "cell_type": "code",
   "execution_count": 5,
   "id": "47b2cd83-5c55-452d-b87c-e405544c7f1d",
   "metadata": {},
   "outputs": [
    {
     "name": "stdout",
     "output_type": "stream",
     "text": [
      "tensor(2.5000)\n"
     ]
    }
   ],
   "source": [
    "print(mse(x_hat,x))"
   ]
  },
  {
   "cell_type": "code",
   "execution_count": 6,
   "id": "6d38902e-44c6-4a0f-9815-c4afd4ca2fd6",
   "metadata": {},
   "outputs": [
    {
     "data": {
      "text/plain": [
       "tensor(2.5000)"
      ]
     },
     "execution_count": 6,
     "metadata": {},
     "output_type": "execute_result"
    }
   ],
   "source": [
    "import torch.nn.functional as F\n",
    "F.mse_loss(x_hat, x)"
   ]
  },
  {
   "cell_type": "code",
   "execution_count": 7,
   "id": "990a42ff-34c5-488c-b2ec-cd2865e044ea",
   "metadata": {},
   "outputs": [],
   "source": [
    "mse_loss = nn.MSELoss()"
   ]
  },
  {
   "cell_type": "code",
   "execution_count": 8,
   "id": "6116372e-9b6d-4e2f-97ec-fe78d16f4dc9",
   "metadata": {},
   "outputs": [
    {
     "data": {
      "text/plain": [
       "tensor(2.5000)"
      ]
     },
     "execution_count": 8,
     "metadata": {},
     "output_type": "execute_result"
    }
   ],
   "source": [
    "mse_loss(x_hat,x)"
   ]
  },
  {
   "cell_type": "code",
   "execution_count": null,
   "id": "8553e7ac-92f0-4992-b061-0e10d9a1bffb",
   "metadata": {},
   "outputs": [],
   "source": []
  }
 ],
 "metadata": {
  "kernelspec": {
   "display_name": "Python 3 (ipykernel)",
   "language": "python",
   "name": "python3"
  },
  "language_info": {
   "codemirror_mode": {
    "name": "ipython",
    "version": 3
   },
   "file_extension": ".py",
   "mimetype": "text/x-python",
   "name": "python",
   "nbconvert_exporter": "python",
   "pygments_lexer": "ipython3",
   "version": "3.13.7"
  }
 },
 "nbformat": 4,
 "nbformat_minor": 5
}
