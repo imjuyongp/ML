{
 "cells": [
  {
   "cell_type": "code",
   "execution_count": 7,
   "id": "12743047-0fd8-4c4a-96c4-5f1d37ea6c8a",
   "metadata": {},
   "outputs": [],
   "source": [
    "import torch\n",
    "import torch.nn as nn"
   ]
  },
  {
   "cell_type": "code",
   "execution_count": 8,
   "id": "8d574ca6-455d-425c-bedb-5d632f7fb3a9",
   "metadata": {},
   "outputs": [],
   "source": [
    "w = torch.FloatTensor([[1,2],\n",
    "                       [3,4],\n",
    "                       [5,6]])"
   ]
  },
  {
   "cell_type": "code",
   "execution_count": 9,
   "id": "e41d4465-9642-4c09-ae69-a039a7c1b221",
   "metadata": {},
   "outputs": [],
   "source": [
    "b = torch.FloatTensor([2,2])"
   ]
  },
  {
   "cell_type": "code",
   "execution_count": 10,
   "id": "4fb0bad2-d75d-4978-9e5f-f36235b26ee8",
   "metadata": {},
   "outputs": [
    {
     "data": {
      "text/plain": [
       "torch.Size([3, 2])"
      ]
     },
     "execution_count": 10,
     "metadata": {},
     "output_type": "execute_result"
    }
   ],
   "source": [
    "w.size()"
   ]
  },
  {
   "cell_type": "code",
   "execution_count": 16,
   "id": "89b8768d-0b98-4a7a-bb6b-62731a71b687",
   "metadata": {},
   "outputs": [],
   "source": [
    "x = torch.FloatTensor(4,3)"
   ]
  },
  {
   "cell_type": "code",
   "execution_count": 17,
   "id": "83c659fb-0bf9-46c6-8f90-9c0ecc164fc3",
   "metadata": {},
   "outputs": [],
   "source": [
    "def linear(x,w,b):\n",
    "    y = torch.matmul(x,w) + b\n",
    "    return y"
   ]
  },
  {
   "cell_type": "code",
   "execution_count": 18,
   "id": "f75b27d0-ea74-4603-b833-a573e315f7ec",
   "metadata": {},
   "outputs": [
    {
     "name": "stdout",
     "output_type": "stream",
     "text": [
      "torch.Size([4, 2])\n"
     ]
    }
   ],
   "source": [
    "y = linear(x,w,b)\n",
    "print(y.size())"
   ]
  },
  {
   "cell_type": "code",
   "execution_count": 4,
   "id": "3fcbee46-f0b9-4452-93c8-71d645df8d77",
   "metadata": {},
   "outputs": [],
   "source": [
    "class MyLinear(nn.Module):\n",
    "    def __init__(self, input_dim=3,output_dim=2):\n",
    "        self.input_dim = input_dim\n",
    "        self.output_dim = output_dim\n",
    "\n",
    "        super().__init__()\n",
    "\n",
    "        self.w = torch.FloatTensor(input_dim, output_dim)\n",
    "        self.b = torch.FloatTensor(output_dim)\n",
    "\n",
    "    def forward(self, x):\n",
    "        y = torch.matmul(x, self.w) + self.b\n",
    "        return y"
   ]
  },
  {
   "cell_type": "code",
   "execution_count": 19,
   "id": "e11105b3-40fd-4521-9290-7d46a51c6240",
   "metadata": {},
   "outputs": [],
   "source": [
    "linear = MyLinear(3,2)\n",
    "y = linear(x)"
   ]
  },
  {
   "cell_type": "code",
   "execution_count": 20,
   "id": "ccd81c9b-4968-40cc-a909-3554d121ac66",
   "metadata": {},
   "outputs": [
    {
     "data": {
      "text/plain": [
       "tensor([[0., 0.],\n",
       "        [0., 0.],\n",
       "        [0., 0.],\n",
       "        [0., 0.]])"
      ]
     },
     "execution_count": 20,
     "metadata": {},
     "output_type": "execute_result"
    }
   ],
   "source": [
    "y"
   ]
  },
  {
   "cell_type": "code",
   "execution_count": 26,
   "id": "f182a7ae-eef8-4b58-aef2-7f94f7560837",
   "metadata": {},
   "outputs": [],
   "source": [
    "class MyLinear(nn.Module):\n",
    "    def __init__(self, input_dim=3,output_dim=2):\n",
    "        self.input_dim = input_dim\n",
    "        self.output_dim = output_dim\n",
    "\n",
    "        super().__init__()\n",
    "\n",
    "        self.w = nn.Parameter(torch.FloatTensor(input_dim, output_dim))\n",
    "        self.b = nn.Parameter(torch.FloatTensor(output_dim))\n",
    "\n",
    "    def forward(self, x):\n",
    "        y = torch.matmul(x, self.w) + self.b\n",
    "        return y"
   ]
  },
  {
   "cell_type": "code",
   "execution_count": 27,
   "id": "e7f940a4-8472-430d-9a0c-c12e30df1bae",
   "metadata": {},
   "outputs": [],
   "source": [
    "linear = MyLinear(3,2)\n",
    "y = linear(x)"
   ]
  },
  {
   "cell_type": "code",
   "execution_count": 28,
   "id": "1ef4e84f-1c87-48d4-b1fb-bfca1a87970e",
   "metadata": {},
   "outputs": [
    {
     "name": "stdout",
     "output_type": "stream",
     "text": [
      "Parameter containing:\n",
      "tensor([[0., 0.],\n",
      "        [0., 0.],\n",
      "        [0., 0.]], requires_grad=True)\n",
      "Parameter containing:\n",
      "tensor([0., 0.], requires_grad=True)\n"
     ]
    }
   ],
   "source": [
    "for p in linear.parameters():\n",
    "    print(p)"
   ]
  },
  {
   "cell_type": "code",
   "execution_count": 33,
   "id": "4bc2705f-08e1-4626-9ce6-d5065b2abe19",
   "metadata": {},
   "outputs": [
    {
     "data": {
      "text/plain": [
       "tensor([[0.0680, 0.1820],\n",
       "        [0.0680, 0.1820],\n",
       "        [0.0680, 0.1820],\n",
       "        [0.0680, 0.1820]], grad_fn=<AddmmBackward0>)"
      ]
     },
     "execution_count": 33,
     "metadata": {},
     "output_type": "execute_result"
    }
   ],
   "source": [
    "linear = nn.Linear(3,2) # nn.Module에 미리 정의된 선형계층 사용\n",
    "y = linear(x)\n",
    "y"
   ]
  },
  {
   "cell_type": "code",
   "execution_count": 34,
   "id": "2ee1cc97-8346-452e-9e05-11aa22bae634",
   "metadata": {},
   "outputs": [
    {
     "name": "stdout",
     "output_type": "stream",
     "text": [
      "Parameter containing:\n",
      "tensor([[ 0.4742,  0.4726,  0.3471],\n",
      "        [ 0.0700, -0.4259, -0.5064]], requires_grad=True)\n",
      "Parameter containing:\n",
      "tensor([0.0680, 0.1820], requires_grad=True)\n"
     ]
    }
   ],
   "source": [
    "for p in linear.parameters():\n",
    "    print(p)"
   ]
  },
  {
   "cell_type": "markdown",
   "id": "7693c443-68e9-4eed-b0d4-05e199423acb",
   "metadata": {},
   "source": [
    "### Cuda 함수\n",
    "- 딥러닝 연산은 연산량이 많기 때문에 GPU에서 이루어짐\n",
    "- 앞선 코드들은 CPU에서 처리되도록 함\n",
    "- 아래 코드들은 GPU에서 연산되도록 하는 코드들"
   ]
  },
  {
   "cell_type": "code",
   "execution_count": 35,
   "id": "7b57e0fc-3053-4758-bcbb-9c012731e5e9",
   "metadata": {},
   "outputs": [
    {
     "ename": "TypeError",
     "evalue": "type torch.cuda.FloatTensor not available. Torch not compiled with CUDA enabled.",
     "output_type": "error",
     "traceback": [
      "\u001b[31m---------------------------------------------------------------------------\u001b[39m",
      "\u001b[31mTypeError\u001b[39m                                 Traceback (most recent call last)",
      "\u001b[36mCell\u001b[39m\u001b[36m \u001b[39m\u001b[32mIn[35]\u001b[39m\u001b[32m, line 1\u001b[39m\n\u001b[32m----> \u001b[39m\u001b[32m1\u001b[39m x = \u001b[43mtorch\u001b[49m\u001b[43m.\u001b[49m\u001b[43mcuda\u001b[49m\u001b[43m.\u001b[49m\u001b[43mFloatTensor\u001b[49m\u001b[43m(\u001b[49m\u001b[32;43m2\u001b[39;49m\u001b[43m,\u001b[49m\u001b[32;43m2\u001b[39;49m\u001b[43m)\u001b[49m\n\u001b[32m      2\u001b[39m x\n",
      "\u001b[31mTypeError\u001b[39m: type torch.cuda.FloatTensor not available. Torch not compiled with CUDA enabled."
     ]
    }
   ],
   "source": [
    "x = torch.cuda.FloatTensor(2,2)\n",
    "x"
   ]
  },
  {
   "cell_type": "code",
   "execution_count": null,
   "id": "6132b2ea-4a8f-4037-9527-9ba4cb702c16",
   "metadata": {},
   "outputs": [],
   "source": []
  }
 ],
 "metadata": {
  "kernelspec": {
   "display_name": "Python 3 (ipykernel)",
   "language": "python",
   "name": "python3"
  },
  "language_info": {
   "codemirror_mode": {
    "name": "ipython",
    "version": 3
   },
   "file_extension": ".py",
   "mimetype": "text/x-python",
   "name": "python",
   "nbconvert_exporter": "python",
   "pygments_lexer": "ipython3",
   "version": "3.13.7"
  }
 },
 "nbformat": 4,
 "nbformat_minor": 5
}
