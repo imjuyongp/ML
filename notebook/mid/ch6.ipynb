{
 "cells": [
  {
   "cell_type": "code",
   "execution_count": 1,
   "id": "70b82411-8eb7-4e36-a373-0d80991f6d8f",
   "metadata": {},
   "outputs": [],
   "source": [
    "import torch\n",
    "import torch.nn.functional as F"
   ]
  },
  {
   "cell_type": "code",
   "execution_count": 2,
   "id": "2e848a0c-081a-42e4-9368-02ee84b2cda1",
   "metadata": {},
   "outputs": [],
   "source": [
    "# 목표 텐서 생성\n",
    "target = torch.FloatTensor([[.1,.2,.3],\n",
    "                            [.4,.5,.6],\n",
    "                            [.7,.8,.9]])"
   ]
  },
  {
   "cell_type": "code",
   "execution_count": 3,
   "id": "9df628c3-b655-49ca-b197-abc1e4ff9e10",
   "metadata": {},
   "outputs": [
    {
     "data": {
      "text/plain": [
       "tensor([[0.1000, 0.2000, 0.3000],\n",
       "        [0.4000, 0.5000, 0.6000],\n",
       "        [0.7000, 0.8000, 0.9000]])"
      ]
     },
     "execution_count": 3,
     "metadata": {},
     "output_type": "execute_result"
    }
   ],
   "source": [
    "target"
   ]
  },
  {
   "cell_type": "code",
   "execution_count": 8,
   "id": "1cbd8250-aad7-4723-8319-ff8107b334ca",
   "metadata": {},
   "outputs": [],
   "source": [
    "# 랜덤 값을 가지는 텐서 생성\n",
    "x = torch.rand_like(target) # target과 동일한 shpae을 가진 랜덤 텐서를 생성\n",
    "x.requires_grad = True # 자동 편미분 활성화"
   ]
  },
  {
   "cell_type": "code",
   "execution_count": 10,
   "id": "18bdc64f-c18d-41c6-bdd0-85eed5260ddc",
   "metadata": {},
   "outputs": [
    {
     "name": "stdout",
     "output_type": "stream",
     "text": [
      "tensor([[0.4482, 0.0778, 0.9246],\n",
      "        [0.0908, 0.4734, 0.2461],\n",
      "        [0.0833, 0.2498, 0.4596]], requires_grad=True)\n"
     ]
    }
   ],
   "source": [
    "print(x)"
   ]
  },
  {
   "cell_type": "code",
   "execution_count": 12,
   "id": "ceaa2337-51e4-4e86-9eb3-987a0976f9fb",
   "metadata": {},
   "outputs": [
    {
     "data": {
      "text/plain": [
       "tensor(0.1805, grad_fn=<MseLossBackward0>)"
      ]
     },
     "execution_count": 12,
     "metadata": {},
     "output_type": "execute_result"
    }
   ],
   "source": [
    "# 두 사이의 손실 값 계산\n",
    "loss = F.mse_loss(x,target)\n",
    "loss"
   ]
  },
  {
   "cell_type": "code",
   "execution_count": 13,
   "id": "94787ad8-b36e-4027-9365-179279133ba0",
   "metadata": {},
   "outputs": [
    {
     "name": "stdout",
     "output_type": "stream",
     "text": [
      "1-th Loss: 1.0921e-01\n",
      "tensor([[0.3708, 0.1049, 0.7858],\n",
      "        [0.1595, 0.4793, 0.3247],\n",
      "        [0.2204, 0.3721, 0.5575]], requires_grad=True)\n",
      "2-th Loss: 6.6063e-02\n",
      "tensor([[0.3106, 0.1261, 0.6778],\n",
      "        [0.2130, 0.4839, 0.3859],\n",
      "        [0.3270, 0.4672, 0.6336]], requires_grad=True)\n",
      "3-th Loss: 3.9964e-02\n",
      "tensor([[0.2638, 0.1425, 0.5939],\n",
      "        [0.2545, 0.4875, 0.4335],\n",
      "        [0.4099, 0.5411, 0.6928]], requires_grad=True)\n",
      "4-th Loss: 2.4176e-02\n",
      "tensor([[0.2274, 0.1553, 0.5286],\n",
      "        [0.2869, 0.4903, 0.4705],\n",
      "        [0.4743, 0.5987, 0.7388]], requires_grad=True)\n",
      "5-th Loss: 1.4625e-02\n",
      "tensor([[0.1991, 0.1652, 0.4778],\n",
      "        [0.3120, 0.4924, 0.4993],\n",
      "        [0.5245, 0.6434, 0.7747]], requires_grad=True)\n",
      "6-th Loss: 8.8472e-03\n",
      "tensor([[0.1771, 0.1729, 0.4383],\n",
      "        [0.3316, 0.4941, 0.5217],\n",
      "        [0.5635, 0.6782, 0.8025]], requires_grad=True)\n",
      "7-th Loss: 5.3520e-03\n",
      "tensor([[0.1600, 0.1790, 0.4075],\n",
      "        [0.3468, 0.4954, 0.5391],\n",
      "        [0.5938, 0.7053, 0.8242]], requires_grad=True)\n",
      "8-th Loss: 3.2376e-03\n",
      "tensor([[0.1466, 0.1836, 0.3836],\n",
      "        [0.3586, 0.4964, 0.5526],\n",
      "        [0.6174, 0.7263, 0.8410]], requires_grad=True)\n",
      "9-th Loss: 1.9586e-03\n",
      "tensor([[0.1363, 0.1873, 0.3651],\n",
      "        [0.3678, 0.4972, 0.5631],\n",
      "        [0.6358, 0.7427, 0.8541]], requires_grad=True)\n",
      "10-th Loss: 1.1848e-03\n",
      "tensor([[0.1282, 0.1901, 0.3506],\n",
      "        [0.3750, 0.4978, 0.5713],\n",
      "        [0.6500, 0.7554, 0.8643]], requires_grad=True)\n",
      "11-th Loss: 7.1674e-04\n",
      "tensor([[0.1219, 0.1923, 0.3394],\n",
      "        [0.3805, 0.4983, 0.5777],\n",
      "        [0.6611, 0.7653, 0.8723]], requires_grad=True)\n",
      "12-th Loss: 4.3358e-04\n",
      "tensor([[0.1171, 0.1940, 0.3306],\n",
      "        [0.3848, 0.4987, 0.5827],\n",
      "        [0.6698, 0.7730, 0.8784]], requires_grad=True)\n",
      "13-th Loss: 2.6229e-04\n",
      "tensor([[0.1133, 0.1953, 0.3238],\n",
      "        [0.3882, 0.4990, 0.5865],\n",
      "        [0.6765, 0.7790, 0.8832]], requires_grad=True)\n",
      "14-th Loss: 1.5867e-04\n",
      "tensor([[0.1103, 0.1964, 0.3185],\n",
      "        [0.3908, 0.4992, 0.5895],\n",
      "        [0.6817, 0.7837, 0.8869]], requires_grad=True)\n",
      "15-th Loss: 9.5985e-05\n",
      "tensor([[0.1080, 0.1972, 0.3144],\n",
      "        [0.3929, 0.4994, 0.5918],\n",
      "        [0.6858, 0.7873, 0.8898]], requires_grad=True)\n",
      "16-th Loss: 5.8065e-05\n",
      "tensor([[0.1062, 0.1978, 0.3112],\n",
      "        [0.3945, 0.4995, 0.5937],\n",
      "        [0.6889, 0.7901, 0.8921]], requires_grad=True)\n",
      "17-th Loss: 3.5126e-05\n",
      "tensor([[0.1049, 0.1983, 0.3087],\n",
      "        [0.3957, 0.4996, 0.5951],\n",
      "        [0.6914, 0.7923, 0.8939]], requires_grad=True)\n",
      "18-th Loss: 2.1249e-05\n",
      "tensor([[0.1038, 0.1987, 0.3068],\n",
      "        [0.3966, 0.4997, 0.5962],\n",
      "        [0.6933, 0.7940, 0.8952]], requires_grad=True)\n",
      "19-th Loss: 1.2854e-05\n",
      "tensor([[0.1029, 0.1990, 0.3053],\n",
      "        [0.3974, 0.4998, 0.5970],\n",
      "        [0.6948, 0.7954, 0.8963]], requires_grad=True)\n",
      "20-th Loss: 7.7760e-06\n",
      "tensor([[0.1023, 0.1992, 0.3041],\n",
      "        [0.3980, 0.4998, 0.5977],\n",
      "        [0.6960, 0.7964, 0.8971]], requires_grad=True)\n"
     ]
    },
    {
     "name": "stderr",
     "output_type": "stream",
     "text": [
      "/var/folders/dc/3dqm8vys2qv2c52_q3sn76xr0000gn/T/ipykernel_76285/1204647954.py:17: UserWarning: Converting a tensor with requires_grad=True to a scalar may lead to unexpected behavior.\n",
      "Consider using tensor.detach() first. (Triggered internally at /Users/runner/work/pytorch/pytorch/pytorch/torch/csrc/autograd/generated/python_variable_methods.cpp:836.)\n",
      "  print('%d-th Loss: %.4e' % (iter_cnt, loss))\n"
     ]
    }
   ],
   "source": [
    "# 반복문을 통해 경사하강법을 적용하여 손실함수를 사용해 오차 값을 계속 줄여나감\n",
    "threshold = 1e-5\n",
    "learning_rate = 1\n",
    "iter_cnt = 0\n",
    "\n",
    "while loss > threshold:\n",
    "    iter_cnt += 1\n",
    "    loss.backward()\n",
    "\n",
    "    x = x - learning_rate * x.grad\n",
    "\n",
    "    x.detach_()\n",
    "    x.requires_grad_(True)\n",
    "\n",
    "    loss = F.mse_loss(x,target)\n",
    "\n",
    "    print('%d-th Loss: %.4e' % (iter_cnt, loss))\n",
    "    print(x)"
   ]
  },
  {
   "cell_type": "code",
   "execution_count": 15,
   "id": "cab77e34-84c2-460d-944d-769393ec14a1",
   "metadata": {},
   "outputs": [],
   "source": [
    "# 오토그래드(자동미분기능)\n",
    "x = torch.FloatTensor([[1,2],\n",
    "                       [3,4]]).requires_grad_(True)"
   ]
  },
  {
   "cell_type": "code",
   "execution_count": 16,
   "id": "b13b5d55-bb7c-4bbe-9081-d97696b3af44",
   "metadata": {},
   "outputs": [],
   "source": [
    "x1 = x + 2"
   ]
  },
  {
   "cell_type": "code",
   "execution_count": 17,
   "id": "32517976-f148-4fc3-acb2-82354084bd2b",
   "metadata": {},
   "outputs": [
    {
     "data": {
      "text/plain": [
       "tensor([[3., 4.],\n",
       "        [5., 6.]], grad_fn=<AddBackward0>)"
      ]
     },
     "execution_count": 17,
     "metadata": {},
     "output_type": "execute_result"
    }
   ],
   "source": [
    "x1"
   ]
  },
  {
   "cell_type": "code",
   "execution_count": 18,
   "id": "e401848d-49fd-4d9e-9745-bbb46fcf664c",
   "metadata": {},
   "outputs": [
    {
     "data": {
      "text/plain": [
       "tensor([[-1.,  0.],\n",
       "        [ 1.,  2.]], grad_fn=<SubBackward0>)"
      ]
     },
     "execution_count": 18,
     "metadata": {},
     "output_type": "execute_result"
    }
   ],
   "source": [
    "x2 = x - 2\n",
    "x2"
   ]
  },
  {
   "cell_type": "code",
   "execution_count": 20,
   "id": "6d787597-0089-4d75-b89f-5e7c320465c3",
   "metadata": {},
   "outputs": [
    {
     "data": {
      "text/plain": [
       "tensor([[-3.,  0.],\n",
       "        [ 5., 12.]], grad_fn=<MulBackward0>)"
      ]
     },
     "execution_count": 20,
     "metadata": {},
     "output_type": "execute_result"
    }
   ],
   "source": [
    "x3 = x1 * x2\n",
    "x3"
   ]
  },
  {
   "cell_type": "code",
   "execution_count": 21,
   "id": "884c617a-85fc-4491-a5cc-7b1c43a0d63a",
   "metadata": {},
   "outputs": [
    {
     "data": {
      "text/plain": [
       "tensor(14., grad_fn=<SumBackward0>)"
      ]
     },
     "execution_count": 21,
     "metadata": {},
     "output_type": "execute_result"
    }
   ],
   "source": [
    "y = x3.sum()\n",
    "y"
   ]
  },
  {
   "cell_type": "code",
   "execution_count": 22,
   "id": "c069be22-7267-43ea-96fb-1bd577a6b98c",
   "metadata": {},
   "outputs": [],
   "source": [
    "y.backward() # y에 대해 편미분한 값을 .grad에 저장"
   ]
  },
  {
   "cell_type": "code",
   "execution_count": 24,
   "id": "1334da47-18b6-4bbd-86d7-ed85407e3837",
   "metadata": {},
   "outputs": [
    {
     "name": "stdout",
     "output_type": "stream",
     "text": [
      "tensor([[2., 4.],\n",
      "        [6., 8.]])\n"
     ]
    }
   ],
   "source": [
    "print(x.grad)"
   ]
  },
  {
   "cell_type": "code",
   "execution_count": null,
   "id": "07126903-b01d-411c-8325-3fdeb49c84db",
   "metadata": {},
   "outputs": [],
   "source": []
  }
 ],
 "metadata": {
  "kernelspec": {
   "display_name": "Python 3 (ipykernel)",
   "language": "python",
   "name": "python3"
  },
  "language_info": {
   "codemirror_mode": {
    "name": "ipython",
    "version": 3
   },
   "file_extension": ".py",
   "mimetype": "text/x-python",
   "name": "python",
   "nbconvert_exporter": "python",
   "pygments_lexer": "ipython3",
   "version": "3.13.7"
  }
 },
 "nbformat": 4,
 "nbformat_minor": 5
}
