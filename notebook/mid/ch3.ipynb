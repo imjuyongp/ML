{
 "cells": [
  {
   "cell_type": "code",
   "execution_count": 2,
   "id": "917cf825-13a9-4220-a12f-6c605ff15aea",
   "metadata": {},
   "outputs": [],
   "source": [
    "import torch"
   ]
  },
  {
   "cell_type": "code",
   "execution_count": 2,
   "id": "5d4a9381-20e2-4ced-a3ce-b36b75d6e2c8",
   "metadata": {},
   "outputs": [],
   "source": [
    "ft = torch.FloatTensor([[1,2],\n",
    "                        [3,4]])"
   ]
  },
  {
   "cell_type": "code",
   "execution_count": 4,
   "id": "79e42ed8-e077-400e-b722-b5c31ab02801",
   "metadata": {},
   "outputs": [
    {
     "data": {
      "text/plain": [
       "tensor([[1., 2.],\n",
       "        [3., 4.]])"
      ]
     },
     "execution_count": 4,
     "metadata": {},
     "output_type": "execute_result"
    }
   ],
   "source": [
    "ft # 2차원 리스트로 실수형 텐서 만들기"
   ]
  },
  {
   "cell_type": "code",
   "execution_count": 6,
   "id": "e9a2ae6d-d778-4365-a36f-89052fe9d6ab",
   "metadata": {},
   "outputs": [
    {
     "data": {
      "text/plain": [
       "tensor([[1, 2],\n",
       "        [3, 4]])"
      ]
     },
     "execution_count": 6,
     "metadata": {},
     "output_type": "execute_result"
    }
   ],
   "source": [
    "lt = torch.LongTensor([[1,2],\n",
    "                        [3,4]])\n",
    "lt # 정수형(long타입 -> 64bit) 텐서"
   ]
  },
  {
   "cell_type": "code",
   "execution_count": 8,
   "id": "a1ad66f9-7681-43e0-a869-16695150b286",
   "metadata": {},
   "outputs": [
    {
     "data": {
      "text/plain": [
       "tensor([[1, 2],\n",
       "        [3, 4]], dtype=torch.uint8)"
      ]
     },
     "execution_count": 8,
     "metadata": {},
     "output_type": "execute_result"
    }
   ],
   "source": [
    "bt = torch.ByteTensor([[1,2],\n",
    "                        [3,4]])\n",
    "bt # 부호없는 정수형 (8bit)"
   ]
  },
  {
   "cell_type": "code",
   "execution_count": 10,
   "id": "063a821a-d0a1-458c-b0bb-3e738138f452",
   "metadata": {},
   "outputs": [
    {
     "data": {
      "text/plain": [
       "tensor([[0., 0.],\n",
       "        [0., 0.],\n",
       "        [0., 0.]])"
      ]
     },
     "execution_count": 10,
     "metadata": {},
     "output_type": "execute_result"
    }
   ],
   "source": [
    "x = torch.FloatTensor(3,2) # 3행 2열 실수형 텐서를 생성\n",
    "x"
   ]
  },
  {
   "cell_type": "markdown",
   "id": "f857cc9e-8b90-40c0-b575-8ccf456ad27f",
   "metadata": {},
   "source": [
    "### 넘파이 호환"
   ]
  },
  {
   "cell_type": "code",
   "execution_count": 11,
   "id": "ddc90efb-42e5-499e-8a3d-e7a4df113fec",
   "metadata": {},
   "outputs": [
    {
     "name": "stdout",
     "output_type": "stream",
     "text": [
      "[[1 2]\n",
      " [3 4]] <class 'numpy.ndarray'>\n"
     ]
    }
   ],
   "source": [
    "import numpy as np\n",
    "\n",
    "x = np.array([[1,2],\n",
    "              [3,4]])\n",
    "print(x, type(x))"
   ]
  },
  {
   "cell_type": "code",
   "execution_count": 12,
   "id": "9ec687a2-132f-4054-8ca2-1bdbc0483de0",
   "metadata": {},
   "outputs": [
    {
     "data": {
      "text/plain": [
       "array([[1, 2],\n",
       "       [3, 4]])"
      ]
     },
     "execution_count": 12,
     "metadata": {},
     "output_type": "execute_result"
    }
   ],
   "source": [
    "x"
   ]
  },
  {
   "cell_type": "code",
   "execution_count": 15,
   "id": "b911891f-86aa-4845-a7d3-640c59765228",
   "metadata": {},
   "outputs": [
    {
     "name": "stdout",
     "output_type": "stream",
     "text": [
      "tensor([[1, 2],\n",
      "        [3, 4]]) <class 'torch.Tensor'>\n"
     ]
    }
   ],
   "source": [
    "# 넘파이의 ndarray를 파이토치의 텐서로 변환\n",
    "x = torch.from_numpy(x)\n",
    "print(x, type(x))"
   ]
  },
  {
   "cell_type": "code",
   "execution_count": 16,
   "id": "83dccb30-0f5f-4506-8794-6ea9a1965b27",
   "metadata": {},
   "outputs": [
    {
     "name": "stdout",
     "output_type": "stream",
     "text": [
      "[[1 2]\n",
      " [3 4]] <class 'numpy.ndarray'>\n"
     ]
    }
   ],
   "source": [
    "# 텐서를 ndarray로 변환\n",
    "x = x.numpy()\n",
    "print(x, type(x))"
   ]
  },
  {
   "cell_type": "markdown",
   "id": "c3c9c823-f058-42c4-82fd-e44d1c5fefc5",
   "metadata": {},
   "source": [
    "### 텐서의 타입 변환"
   ]
  },
  {
   "cell_type": "code",
   "execution_count": 20,
   "id": "04208477-45ec-4abc-a34c-6a1d5dbcff34",
   "metadata": {},
   "outputs": [
    {
     "data": {
      "text/plain": [
       "tensor([[1., 2.],\n",
       "        [3., 4.]])"
      ]
     },
     "execution_count": 20,
     "metadata": {},
     "output_type": "execute_result"
    }
   ],
   "source": [
    "ft"
   ]
  },
  {
   "cell_type": "code",
   "execution_count": 18,
   "id": "0f3068fd-620c-4ea1-9147-fe7c3a92b7ee",
   "metadata": {},
   "outputs": [
    {
     "data": {
      "text/plain": [
       "tensor([[1, 2],\n",
       "        [3, 4]])"
      ]
     },
     "execution_count": 18,
     "metadata": {},
     "output_type": "execute_result"
    }
   ],
   "source": [
    "ft.long()"
   ]
  },
  {
   "cell_type": "code",
   "execution_count": 19,
   "id": "3787860b-f6a1-4c16-9e78-498c9c5d115b",
   "metadata": {},
   "outputs": [
    {
     "data": {
      "text/plain": [
       "tensor([[1., 2.],\n",
       "        [3., 4.]])"
      ]
     },
     "execution_count": 19,
     "metadata": {},
     "output_type": "execute_result"
    }
   ],
   "source": [
    "ft.float()"
   ]
  },
  {
   "cell_type": "markdown",
   "id": "5646be2e-9d0f-4d13-9e15-6e1d6c24b4a9",
   "metadata": {},
   "source": [
    "### 텐서의 크기 구하기"
   ]
  },
  {
   "cell_type": "code",
   "execution_count": 21,
   "id": "b350a307-a4d0-4ad3-948d-18c30d104ede",
   "metadata": {},
   "outputs": [
    {
     "data": {
      "text/plain": [
       "tensor([[[ 1.,  2.],\n",
       "         [ 3.,  4.]],\n",
       "\n",
       "        [[ 5.,  6.],\n",
       "         [ 7.,  8.]],\n",
       "\n",
       "        [[ 9., 10.],\n",
       "         [11., 12.]]])"
      ]
     },
     "execution_count": 21,
     "metadata": {},
     "output_type": "execute_result"
    }
   ],
   "source": [
    "x = torch.FloatTensor([[[1,2],[3,4]],\n",
    "                       [[5,6],[7,8]],\n",
    "                       [[9,10],[11,12]]])\n",
    "x"
   ]
  },
  {
   "cell_type": "code",
   "execution_count": 23,
   "id": "c455e4b8-d95e-4793-af4a-b515a50c075c",
   "metadata": {},
   "outputs": [
    {
     "data": {
      "text/plain": [
       "tensor([[[ 1.,  2.],\n",
       "         [ 3.,  4.]],\n",
       "\n",
       "        [[ 5.,  6.],\n",
       "         [ 7.,  8.]],\n",
       "\n",
       "        [[ 9., 10.],\n",
       "         [11., 12.]]])"
      ]
     },
     "execution_count": 23,
     "metadata": {},
     "output_type": "execute_result"
    }
   ],
   "source": [
    "y = np.arange(1,13).reshape(3,2,2) # 1부터 12까지 연속된 숫자 생성 / reshape으로 3,2,2 형태로 재배열\n",
    "x = torch.from_numpy(y).float() # 넘파이 배열을 파이토치의 텐서로 변환\n",
    "x"
   ]
  },
  {
   "cell_type": "code",
   "execution_count": 30,
   "id": "287ae72d-fb55-45a1-b7dc-460003abadc7",
   "metadata": {},
   "outputs": [
    {
     "name": "stdout",
     "output_type": "stream",
     "text": [
      "torch.Size([3, 2, 2])\n",
      "torch.Size([3, 2, 2])\n"
     ]
    }
   ],
   "source": [
    "print(x.size()) # 크기 메서드 (함수 호출 -> 특정 차원 접근(차원을 인자로 받을 수 있음)\n",
    "print(x.shape) #  크기 속성 (속성 접근)"
   ]
  },
  {
   "cell_type": "code",
   "execution_count": 33,
   "id": "bd23c76f-9a5d-4eb3-9808-b1d4f31de190",
   "metadata": {},
   "outputs": [
    {
     "data": {
      "text/plain": [
       "(3, 2, 2)"
      ]
     },
     "execution_count": 33,
     "metadata": {},
     "output_type": "execute_result"
    }
   ],
   "source": [
    "y.shape # 넘파이에는 size()가 없음"
   ]
  },
  {
   "cell_type": "code",
   "execution_count": 36,
   "id": "9b9f3a19-923b-444b-bad3-f87dea6b5289",
   "metadata": {},
   "outputs": [
    {
     "name": "stdout",
     "output_type": "stream",
     "text": [
      "2\n",
      "2\n"
     ]
    }
   ],
   "source": [
    "print(x.size(1))\n",
    "print(x.shape[1])"
   ]
  },
  {
   "cell_type": "code",
   "execution_count": 38,
   "id": "c58263e3-5d16-4db4-9a21-b8c4590b2be1",
   "metadata": {},
   "outputs": [
    {
     "name": "stdout",
     "output_type": "stream",
     "text": [
      "3\n",
      "3\n"
     ]
    }
   ],
   "source": [
    "# 차원의 개수\n",
    "print(x.dim())\n",
    "print(len(x.size()))"
   ]
  },
  {
   "cell_type": "markdown",
   "id": "c4cc8173-2c2a-49f1-99b6-975d1831b449",
   "metadata": {},
   "source": [
    "### 기본 연산"
   ]
  },
  {
   "cell_type": "code",
   "execution_count": 39,
   "id": "2c429788-8fcd-4b18-b029-0f5aa9fbe2ff",
   "metadata": {},
   "outputs": [
    {
     "data": {
      "text/plain": [
       "tensor([[3., 4.],\n",
       "        [6., 7.]])"
      ]
     },
     "execution_count": 39,
     "metadata": {},
     "output_type": "execute_result"
    }
   ],
   "source": [
    "# 요소별 산술 연산\n",
    "a = torch.FloatTensor([[1,2],\n",
    "                       [3,4]])\n",
    "b = torch.FloatTensor([[2,2],\n",
    "                       [3,3]])\n",
    "a+b"
   ]
  },
  {
   "cell_type": "code",
   "execution_count": 40,
   "id": "93288aa8-6c34-4588-a59c-56e08894edea",
   "metadata": {},
   "outputs": [],
   "source": [
    "# 논리연산 (==) 비교연산 (>,<) 전부 가능 -> True, False로 나옴"
   ]
  },
  {
   "cell_type": "markdown",
   "id": "7011fd89-eaed-4eb9-b65a-f8b63437591c",
   "metadata": {},
   "source": [
    "- 인플레이스 연산\n",
    "  - 연산자 함수 옆에 _이 붙음\n",
    "  - 결과에 대한 새로운 메모리를 할당하지 않고 텐서에 그대로 저장(값 업데이트)"
   ]
  },
  {
   "cell_type": "code",
   "execution_count": 45,
   "id": "9b900fb1-2a75-4f22-9598-4f6c033267d0",
   "metadata": {},
   "outputs": [],
   "source": [
    "a = torch.FloatTensor([[1,2],\n",
    "                       [3,4]])\n",
    "b = torch.FloatTensor([[2,2],\n",
    "                       [3,3]])"
   ]
  },
  {
   "cell_type": "code",
   "execution_count": 46,
   "id": "bb973545-9e51-4074-9368-7e39c9a93a91",
   "metadata": {},
   "outputs": [
    {
     "name": "stdout",
     "output_type": "stream",
     "text": [
      "tensor([[1., 2.],\n",
      "        [3., 4.]])\n"
     ]
    }
   ],
   "source": [
    "a.mul(b)\n",
    "print(a)"
   ]
  },
  {
   "cell_type": "code",
   "execution_count": 47,
   "id": "b84ba55d-ff98-4dd1-b05a-59040a20993c",
   "metadata": {},
   "outputs": [
    {
     "name": "stdout",
     "output_type": "stream",
     "text": [
      "tensor([[ 2.,  4.],\n",
      "        [ 9., 12.]])\n"
     ]
    }
   ],
   "source": [
    "a.mul_(b)\n",
    "print(a)"
   ]
  },
  {
   "cell_type": "markdown",
   "id": "0b932acb-fe91-4c7f-8fe1-85d93e1c4190",
   "metadata": {},
   "source": [
    "### 차원 축소 연산 : 합과 평균\n",
    "- 벡터(1차원 배열)의 합은 스칼라 값이므로 차원이 하나 줄어들게 됨"
   ]
  },
  {
   "cell_type": "code",
   "execution_count": 49,
   "id": "1a2acea9-6116-4987-b6f9-2ab9a234bf31",
   "metadata": {},
   "outputs": [],
   "source": [
    "x = torch.FloatTensor([[1,2],\n",
    "                       [3,4]])"
   ]
  },
  {
   "cell_type": "code",
   "execution_count": 51,
   "id": "713e4d24-8bf4-440a-84b5-149e1533d77e",
   "metadata": {},
   "outputs": [
    {
     "name": "stdout",
     "output_type": "stream",
     "text": [
      "tensor(10.)\n",
      "tensor(2.5000)\n"
     ]
    }
   ],
   "source": [
    "print(x.sum()) # 합\n",
    "print(x.mean()) # 평균"
   ]
  },
  {
   "cell_type": "code",
   "execution_count": 52,
   "id": "5a976cff-7897-4c32-834c-9ad33e8fb0e8",
   "metadata": {},
   "outputs": [
    {
     "name": "stdout",
     "output_type": "stream",
     "text": [
      "tensor([4., 6.])\n"
     ]
    }
   ],
   "source": [
    "# 축을 지정핵서 차원을 줄일 수 있음\n",
    "print(x.sum(dim=0))"
   ]
  },
  {
   "cell_type": "markdown",
   "id": "86a77cb7-4e5d-43d8-a894-457761c5aa3d",
   "metadata": {},
   "source": [
    "### 브로드캐스트 연산\n",
    "- 크기가 다른 텐서들의 산술 연산을 가능하게 함\n",
    "  - 텐서 + 스칼라\n",
    "  - 텐서 + 벡터\n",
    "  - 텐서 + 텐서"
   ]
  },
  {
   "cell_type": "code",
   "execution_count": 53,
   "id": "6a12160c-a541-4f95-926d-88acab0d5b95",
   "metadata": {},
   "outputs": [
    {
     "name": "stdout",
     "output_type": "stream",
     "text": [
      "tensor([[2., 3.],\n",
      "        [4., 5.]])\n",
      "torch.Size([2, 2])\n"
     ]
    }
   ],
   "source": [
    "# 텐서 +  스칼라\n",
    "x = torch.FloatTensor([[1,2],[3,4]])\n",
    "y = 1\n",
    "z = x + y\n",
    "print(z)\n",
    "print(z.size())"
   ]
  },
  {
   "cell_type": "code",
   "execution_count": 54,
   "id": "7401eca3-2c5e-4e48-97bc-e172861562dd",
   "metadata": {},
   "outputs": [
    {
     "name": "stdout",
     "output_type": "stream",
     "text": [
      "tensor([[ 4.,  7.],\n",
      "        [ 7., 13.]])\n",
      "torch.Size([2, 2])\n"
     ]
    }
   ],
   "source": [
    "# 텐서 + 벡터\n",
    "x = torch.FloatTensor([[1,2],[4,8]])\n",
    "y = torch.FloatTensor([3,5])\n",
    "z = x + y\n",
    "print(z)\n",
    "print(z.size())"
   ]
  },
  {
   "cell_type": "markdown",
   "id": "9d1ff3b4-ef8b-45d9-8fad-7134601e856e",
   "metadata": {},
   "source": [
    "### 텐서 형태 변환\n",
    "- view 함수\n",
    "  - 텐서의 요소 개수가 맞아야 함\n",
    "  - -1이 들어간 차원의 크기는 다른 차원의 값들을 곱하고 남은 필요한 값이 자동으로 채워짐"
   ]
  },
  {
   "cell_type": "code",
   "execution_count": 61,
   "id": "b8120bca-cf77-427c-8e39-c907c009a4d7",
   "metadata": {},
   "outputs": [],
   "source": [
    "x = torch.from_numpy(np.arange(1,13).reshape(3,2,2))"
   ]
  },
  {
   "cell_type": "code",
   "execution_count": 62,
   "id": "125efc1c-ee7a-4f50-9d59-c9b15a827ce3",
   "metadata": {},
   "outputs": [
    {
     "data": {
      "text/plain": [
       "tensor([ 1,  2,  3,  4,  5,  6,  7,  8,  9, 10, 11, 12])"
      ]
     },
     "execution_count": 62,
     "metadata": {},
     "output_type": "execute_result"
    }
   ],
   "source": [
    "x.view(12)"
   ]
  },
  {
   "cell_type": "code",
   "execution_count": 63,
   "id": "e4793698-09e9-4aac-a350-a4c96a7ce993",
   "metadata": {},
   "outputs": [
    {
     "data": {
      "text/plain": [
       "tensor([[ 1,  2,  3,  4],\n",
       "        [ 5,  6,  7,  8],\n",
       "        [ 9, 10, 11, 12]])"
      ]
     },
     "execution_count": 63,
     "metadata": {},
     "output_type": "execute_result"
    }
   ],
   "source": [
    "x.view(3,-1) # 요소 개수 : 12 / 0번째 차원 : 3 / -1은 미지수로 생각 -> 4가 채워짐"
   ]
  },
  {
   "cell_type": "code",
   "execution_count": 69,
   "id": "dcbccb40-75fd-471e-8840-fa8e444773b6",
   "metadata": {},
   "outputs": [
    {
     "data": {
      "text/plain": [
       "tensor([ 1,  2,  3,  4,  5,  6,  7,  8,  9, 10, 11, 12])"
      ]
     },
     "execution_count": 69,
     "metadata": {},
     "output_type": "execute_result"
    }
   ],
   "source": [
    "# 순차적으로 선언된 텐서가 아닐 경우 view()함수는 오류를 발생 \n",
    "# 오류 방지를 위해 x.contiguous().view(-1) / x.reshpae(-1)울 해야함\n",
    "\n",
    "x.contiguous().view(-1)\n",
    "x.reshape(-1)"
   ]
  },
  {
   "cell_type": "markdown",
   "id": "81f15588-48f4-496b-954b-02d23eaa9da4",
   "metadata": {},
   "source": [
    "### Stride 함수"
   ]
  },
  {
   "cell_type": "code",
   "execution_count": 71,
   "id": "e4e6b9de-e0ae-45d8-9ed8-11704d38b740",
   "metadata": {},
   "outputs": [
    {
     "data": {
      "text/plain": [
       "(2, 1)"
      ]
     },
     "execution_count": 71,
     "metadata": {},
     "output_type": "execute_result"
    }
   ],
   "source": [
    "x = torch.FloatTensor([[1,2],[3,4]])\n",
    "x.stride() # stride: 다음 요소로 접근하기 위해 건너뛰어야 할 요소의 수 (인덱스로 이해!!!)"
   ]
  },
  {
   "cell_type": "markdown",
   "id": "da69de32-5ead-4969-8c98-2813cf906ae3",
   "metadata": {},
   "source": [
    "### squeeze 함수\n",
    "- 크기가 1인 차원을 제거 함"
   ]
  },
  {
   "cell_type": "code",
   "execution_count": 1,
   "id": "24bfd57d-e38a-47c6-b891-9fcec9c36c44",
   "metadata": {},
   "outputs": [
    {
     "ename": "NameError",
     "evalue": "name 'torch' is not defined",
     "output_type": "error",
     "traceback": [
      "\u001b[31m---------------------------------------------------------------------------\u001b[39m",
      "\u001b[31mNameError\u001b[39m                                 Traceback (most recent call last)",
      "\u001b[36mCell\u001b[39m\u001b[36m \u001b[39m\u001b[32mIn[1]\u001b[39m\u001b[32m, line 1\u001b[39m\n\u001b[32m----> \u001b[39m\u001b[32m1\u001b[39m a = \u001b[43mtorch\u001b[49m.FloatTensor([[[\u001b[32m1\u001b[39m],[\u001b[32m2\u001b[39m],[\u001b[32m3\u001b[39m]],[[\u001b[32m4\u001b[39m],[\u001b[32m5\u001b[39m],[\u001b[32m6\u001b[39m]]])\n\u001b[32m      2\u001b[39m a.size()\n",
      "\u001b[31mNameError\u001b[39m: name 'torch' is not defined"
     ]
    }
   ],
   "source": [
    "a = torch.FloatTensor([[[1],[2],[3]],[[4],[5],[6]]])\n",
    "a.size()"
   ]
  },
  {
   "cell_type": "code",
   "execution_count": 75,
   "id": "40ed7c5a-9013-463d-99e3-d65790596389",
   "metadata": {},
   "outputs": [
    {
     "data": {
      "text/plain": [
       "tensor([[1., 2.],\n",
       "        [3., 4.]])"
      ]
     },
     "execution_count": 75,
     "metadata": {},
     "output_type": "execute_result"
    }
   ],
   "source": [
    "x.squeeze()"
   ]
  },
  {
   "cell_type": "code",
   "execution_count": 80,
   "id": "b74a88b9-5bee-428c-b1e4-271852c08776",
   "metadata": {},
   "outputs": [
    {
     "name": "stdout",
     "output_type": "stream",
     "text": [
      "torch.Size([2, 2])\n"
     ]
    }
   ],
   "source": [
    "print(x.squeeze(0).size())"
   ]
  },
  {
   "cell_type": "code",
   "execution_count": 81,
   "id": "a7b28c10-2b52-4b13-a3b7-dd4171bdb345",
   "metadata": {},
   "outputs": [
    {
     "name": "stdout",
     "output_type": "stream",
     "text": [
      "torch.Size([1, 2, 2])\n"
     ]
    }
   ],
   "source": [
    "print(x.squeeze(1).size())"
   ]
  },
  {
   "cell_type": "markdown",
   "id": "317bd6ad-6fcb-4582-a852-238e73e3f7a9",
   "metadata": {},
   "source": [
    "### unsqueeze 함수\n",
    "- 크기가 1인 차원을 삽입 (삽입할 위치 지정)"
   ]
  },
  {
   "cell_type": "code",
   "execution_count": 86,
   "id": "27eee871-89f5-4f3a-84c5-436e47412212",
   "metadata": {},
   "outputs": [
    {
     "data": {
      "text/plain": [
       "torch.Size([2, 2])"
      ]
     },
     "execution_count": 86,
     "metadata": {},
     "output_type": "execute_result"
    }
   ],
   "source": [
    "x = torch.FloatTensor([[1,2],[3,4]])\n",
    "x.size()"
   ]
  },
  {
   "cell_type": "code",
   "execution_count": 87,
   "id": "849ec86b-7b74-4412-8368-04b21255134e",
   "metadata": {},
   "outputs": [
    {
     "data": {
      "text/plain": [
       "torch.Size([2, 1, 2])"
      ]
     },
     "execution_count": 87,
     "metadata": {},
     "output_type": "execute_result"
    }
   ],
   "source": [
    "x.unsqueeze(1).size()"
   ]
  },
  {
   "cell_type": "code",
   "execution_count": 88,
   "id": "34781559-bd84-4737-9d6c-383b17d7745c",
   "metadata": {},
   "outputs": [
    {
     "data": {
      "text/plain": [
       "torch.Size([1, 2, 2])"
      ]
     },
     "execution_count": 88,
     "metadata": {},
     "output_type": "execute_result"
    }
   ],
   "source": [
    "x.unsqueeze(0).size()"
   ]
  },
  {
   "cell_type": "code",
   "execution_count": 89,
   "id": "8bbd443d-db37-47d9-b719-a74ce2ec69e8",
   "metadata": {},
   "outputs": [
    {
     "data": {
      "text/plain": [
       "torch.Size([2, 2, 1])"
      ]
     },
     "execution_count": 89,
     "metadata": {},
     "output_type": "execute_result"
    }
   ],
   "source": [
    "x.unsqueeze(2).size()"
   ]
  },
  {
   "cell_type": "code",
   "execution_count": 90,
   "id": "ec69b99b-be9b-4a4e-9b60-03e14449e29b",
   "metadata": {},
   "outputs": [
    {
     "data": {
      "text/plain": [
       "torch.Size([2, 2, 1])"
      ]
     },
     "execution_count": 90,
     "metadata": {},
     "output_type": "execute_result"
    }
   ],
   "source": [
    "x.unsqueeze(-1).size()"
   ]
  },
  {
   "cell_type": "code",
   "execution_count": 3,
   "id": "2890ac27-95ed-4af6-9528-597804ce5a33",
   "metadata": {},
   "outputs": [
    {
     "name": "stdout",
     "output_type": "stream",
     "text": [
      "tensor([[[1.],\n",
      "         [2.],\n",
      "         [3.]],\n",
      "\n",
      "        [[4.],\n",
      "         [5.],\n",
      "         [6.]]])\n"
     ]
    }
   ],
   "source": [
    "import torch\n",
    "a = torch.FloatTensor([[[1],[2],[3]],[[4],[5],[6]]])\n",
    "print(a)"
   ]
  },
  {
   "cell_type": "code",
   "execution_count": 4,
   "id": "c54f6819-005f-4d34-94c9-1f2c55280ca4",
   "metadata": {},
   "outputs": [
    {
     "data": {
      "text/plain": [
       "torch.Size([2, 3, 1])"
      ]
     },
     "execution_count": 4,
     "metadata": {},
     "output_type": "execute_result"
    }
   ],
   "source": [
    "a.size()"
   ]
  },
  {
   "cell_type": "code",
   "execution_count": 93,
   "id": "e557d1ca-8565-4d35-87bb-7181b6243773",
   "metadata": {},
   "outputs": [],
   "source": [
    "b = a.squeeze()"
   ]
  },
  {
   "cell_type": "code",
   "execution_count": 94,
   "id": "79d8b9bb-e0c6-4b91-824d-332be12bd27f",
   "metadata": {},
   "outputs": [
    {
     "data": {
      "text/plain": [
       "tensor([[1., 2., 3.],\n",
       "        [4., 5., 6.]])"
      ]
     },
     "execution_count": 94,
     "metadata": {},
     "output_type": "execute_result"
    }
   ],
   "source": [
    "b"
   ]
  },
  {
   "cell_type": "code",
   "execution_count": 95,
   "id": "dcc573be-5315-4a25-ac57-d115e508868c",
   "metadata": {},
   "outputs": [],
   "source": [
    "c = b.T"
   ]
  },
  {
   "cell_type": "code",
   "execution_count": 96,
   "id": "b4bb8ac2-e711-418f-953d-0c701395dced",
   "metadata": {},
   "outputs": [
    {
     "data": {
      "text/plain": [
       "tensor([[1., 4.],\n",
       "        [2., 5.],\n",
       "        [3., 6.]])"
      ]
     },
     "execution_count": 96,
     "metadata": {},
     "output_type": "execute_result"
    }
   ],
   "source": [
    "c"
   ]
  },
  {
   "cell_type": "code",
   "execution_count": 97,
   "id": "8d471b42-973c-4bda-867c-0b160d616dfc",
   "metadata": {},
   "outputs": [],
   "source": [
    "d = c.unsqueeze(0)"
   ]
  },
  {
   "cell_type": "code",
   "execution_count": 98,
   "id": "e2568ea4-a59a-496d-aabc-9051e5d510cd",
   "metadata": {},
   "outputs": [
    {
     "data": {
      "text/plain": [
       "tensor([[[1., 4.],\n",
       "         [2., 5.],\n",
       "         [3., 6.]]])"
      ]
     },
     "execution_count": 98,
     "metadata": {},
     "output_type": "execute_result"
    }
   ],
   "source": [
    "d"
   ]
  },
  {
   "cell_type": "markdown",
   "id": "dafe0325-32f5-4a50-8978-49213bb825eb",
   "metadata": {},
   "source": [
    "### 텐서 자르기 & 붙이기"
   ]
  },
  {
   "cell_type": "markdown",
   "id": "4d196dd2-e0bf-4ed6-9087-ed57c878095c",
   "metadata": {},
   "source": [
    "- 인덱싱과 슬라이싱\n",
    "  - 넘파이와 동일함"
   ]
  },
  {
   "cell_type": "code",
   "execution_count": 100,
   "id": "78fa880f-671d-4760-bd96-34fdeb914ed6",
   "metadata": {},
   "outputs": [
    {
     "name": "stdout",
     "output_type": "stream",
     "text": [
      "torch.Size([3, 2, 2])\n"
     ]
    }
   ],
   "source": [
    "x = torch.FloatTensor([[[1,2],[3,4]],[[5,6],[7,8]],[[9,10],[11,12]]])\n",
    "print(x.size())"
   ]
  },
  {
   "cell_type": "code",
   "execution_count": 101,
   "id": "365f0330-05e9-4d16-af3c-be41fd6460f8",
   "metadata": {},
   "outputs": [
    {
     "name": "stdout",
     "output_type": "stream",
     "text": [
      "tensor([[1., 2.],\n",
      "        [3., 4.]])\n"
     ]
    }
   ],
   "source": [
    "print(x[0])"
   ]
  },
  {
   "cell_type": "code",
   "execution_count": 102,
   "id": "082cfa6e-d762-4219-b396-d47dbf73cee3",
   "metadata": {},
   "outputs": [
    {
     "data": {
      "text/plain": [
       "torch.Size([3, 2, 2])"
      ]
     },
     "execution_count": 102,
     "metadata": {},
     "output_type": "execute_result"
    }
   ],
   "source": [
    "x.shape"
   ]
  },
  {
   "cell_type": "code",
   "execution_count": 104,
   "id": "c4a1358a-57d7-4075-9772-10b719318139",
   "metadata": {},
   "outputs": [
    {
     "name": "stdout",
     "output_type": "stream",
     "text": [
      "tensor([[ 1.,  2.],\n",
      "        [ 5.,  6.],\n",
      "        [ 9., 10.]])\n"
     ]
    }
   ],
   "source": [
    "print(x[:,0])"
   ]
  },
  {
   "cell_type": "code",
   "execution_count": 105,
   "id": "6e045482-5829-44f5-a4eb-18196256f7ef",
   "metadata": {},
   "outputs": [
    {
     "name": "stdout",
     "output_type": "stream",
     "text": [
      "tensor([1., 5., 9.])\n"
     ]
    }
   ],
   "source": [
    "print(x[:,0,0])"
   ]
  },
  {
   "cell_type": "code",
   "execution_count": 106,
   "id": "9f162596-e687-4f70-b853-2a8ae688f7e4",
   "metadata": {},
   "outputs": [
    {
     "name": "stdout",
     "output_type": "stream",
     "text": [
      "torch.Size([1, 1, 2])\n"
     ]
    }
   ],
   "source": [
    "print(x[1:2,1:,:].size())"
   ]
  },
  {
   "cell_type": "code",
   "execution_count": 107,
   "id": "28ba317a-3ce8-4fe8-bcd7-5dd195746169",
   "metadata": {},
   "outputs": [
    {
     "name": "stdout",
     "output_type": "stream",
     "text": [
      "tensor([[[7., 8.]]])\n"
     ]
    }
   ],
   "source": [
    "print(x[1:2,1:,:])"
   ]
  },
  {
   "cell_type": "markdown",
   "id": "62ed1739-5e28-49e1-ae1b-80c849a0dbb5",
   "metadata": {},
   "source": [
    "### split 함수\n",
    "- 텐서를 특정 차원에 대해서 원하는 크기로 잘라줌\n",
    "- 원하는 크기로 나누고 마지막은 남은 것을 배분\n",
    "- parameters\n",
    "  - split_size : 나누는 조각의 크기\n",
    "  - dim : 나누게 되는 차원"
   ]
  },
  {
   "cell_type": "code",
   "execution_count": 108,
   "id": "fa991d67-cd14-4c9d-8599-7127b2cf9b06",
   "metadata": {},
   "outputs": [],
   "source": [
    "x = torch.FloatTensor(10,4)"
   ]
  },
  {
   "cell_type": "code",
   "execution_count": 109,
   "id": "323d6fec-adc6-4873-82d6-e6b8f1ebabbf",
   "metadata": {},
   "outputs": [
    {
     "data": {
      "text/plain": [
       "tensor([[0., 0., 0., 0.],\n",
       "        [0., 0., 0., 0.],\n",
       "        [0., 0., 0., 0.],\n",
       "        [0., 0., 0., 0.],\n",
       "        [0., 0., 0., 0.],\n",
       "        [0., 0., 0., 0.],\n",
       "        [0., 0., 0., 0.],\n",
       "        [0., 0., 0., 0.],\n",
       "        [0., 0., 0., 0.],\n",
       "        [0., 0., 0., 0.]])"
      ]
     },
     "execution_count": 109,
     "metadata": {},
     "output_type": "execute_result"
    }
   ],
   "source": [
    "x"
   ]
  },
  {
   "cell_type": "code",
   "execution_count": 110,
   "id": "6be8c42a-eacc-4bee-9de4-d1ec3e78bcaa",
   "metadata": {},
   "outputs": [],
   "source": [
    "splits = x.split(4,dim=0)"
   ]
  },
  {
   "cell_type": "code",
   "execution_count": 111,
   "id": "96807c40-fd61-44bf-8556-1d0fee8cd6c4",
   "metadata": {},
   "outputs": [
    {
     "name": "stdout",
     "output_type": "stream",
     "text": [
      "torch.Size([4, 4])\n",
      "torch.Size([4, 4])\n",
      "torch.Size([2, 4])\n"
     ]
    }
   ],
   "source": [
    "for s in splits:\n",
    "    print(s.size())"
   ]
  },
  {
   "cell_type": "markdown",
   "id": "032165c1-6c38-42b6-bb77-b6f229bdf1ab",
   "metadata": {},
   "source": [
    "### chunk 함수\n",
    "- 크기에 상관없이 원하는 개수로 나눔\n",
    "- 최대한 같은 크기로 나누고 마지막에 나머지를 배분\n",
    "- parameters\n",
    "  - chunk: 나누는 조각의 개수\n",
    "  - dim: 나누게 되는 차원"
   ]
  },
  {
   "cell_type": "code",
   "execution_count": 121,
   "id": "d519fb39-9d5d-4558-ba52-e553707d0559",
   "metadata": {},
   "outputs": [
    {
     "data": {
      "text/plain": [
       "tensor([[0., 0., 0., 0.],\n",
       "        [0., 0., 0., 0.],\n",
       "        [0., 0., 0., 0.],\n",
       "        [0., 0., 0., 0.],\n",
       "        [0., 0., 0., 0.],\n",
       "        [0., 0., 0., 0.],\n",
       "        [0., 0., 0., 0.],\n",
       "        [0., 0., 0., 0.],\n",
       "        [0., 0., 0., 0.],\n",
       "        [0., 0., 0., 0.]])"
      ]
     },
     "execution_count": 121,
     "metadata": {},
     "output_type": "execute_result"
    }
   ],
   "source": [
    "x = torch.FloatTensor(10,4)\n",
    "x"
   ]
  },
  {
   "cell_type": "code",
   "execution_count": 119,
   "id": "0a2ab1b9-8acd-40b5-964a-be348a7ce152",
   "metadata": {},
   "outputs": [],
   "source": [
    "chunks = x.chunk(4,dim=0)"
   ]
  },
  {
   "cell_type": "code",
   "execution_count": 120,
   "id": "a8deb4bc-9ee3-45dc-b323-83feda03334a",
   "metadata": {},
   "outputs": [
    {
     "name": "stdout",
     "output_type": "stream",
     "text": [
      "torch.Size([3, 4])\n",
      "torch.Size([3, 4])\n",
      "torch.Size([3, 4])\n",
      "torch.Size([1, 4])\n"
     ]
    }
   ],
   "source": [
    "for c in chunks:\n",
    "    print(c.size())"
   ]
  },
  {
   "cell_type": "markdown",
   "id": "d2224dfb-df5a-491d-86f5-b14097b3a580",
   "metadata": {},
   "source": [
    "### Index_Select 함수\n",
    "- 특정 차원에서 원하는 인덱스 위치의 값만 가져옴\n",
    "- parameters\n",
    "  - dim : 인덱스를 지정할 차원\n",
    "  - index : 정수 텐서로 지정한 인덱스 목록"
   ]
  },
  {
   "cell_type": "code",
   "execution_count": 122,
   "id": "0de2dd62-3906-4ebe-8e01-7fcebe7c9603",
   "metadata": {},
   "outputs": [],
   "source": [
    "x = torch.FloatTensor([[[1,2],[3,4]],[[5,6],[7,8]],[[9,10],[11,12]]])"
   ]
  },
  {
   "cell_type": "code",
   "execution_count": 123,
   "id": "4a7f60a8-3c34-44ab-9d29-c4118a5e2f90",
   "metadata": {},
   "outputs": [],
   "source": [
    "indice = torch.LongTensor([2,1])"
   ]
  },
  {
   "cell_type": "code",
   "execution_count": 124,
   "id": "8e44046c-4a09-48cf-8c56-5d6ccb7e81bd",
   "metadata": {},
   "outputs": [
    {
     "data": {
      "text/plain": [
       "tensor([[[ 9., 10.],\n",
       "         [11., 12.]],\n",
       "\n",
       "        [[ 5.,  6.],\n",
       "         [ 7.,  8.]]])"
      ]
     },
     "execution_count": 124,
     "metadata": {},
     "output_type": "execute_result"
    }
   ],
   "source": [
    "x.index_select(dim=0,index=indice)"
   ]
  },
  {
   "cell_type": "markdown",
   "id": "d37c3453-b28b-4174-ad8b-8daa49137a32",
   "metadata": {},
   "source": [
    "### Concatenate 함수\n",
    "- cat()\n",
    "- 여러 텐서를 합쳐서 하나의 텐서로 만듬\n",
    "- 합치는 차원을 dim으로 지정\n",
    "- 합치는 차원 외 다른 차원들의 크기는 같아야 함\n",
    "- parameters\n",
    "  - tensors : 텐서목록\n",
    "  - dim : int, optional"
   ]
  },
  {
   "cell_type": "code",
   "execution_count": 128,
   "id": "d1673de8-b305-472b-bf33-83886b516143",
   "metadata": {},
   "outputs": [
    {
     "name": "stdout",
     "output_type": "stream",
     "text": [
      "torch.Size([3, 3]) torch.Size([3, 3])\n"
     ]
    }
   ],
   "source": [
    "x = torch.FloatTensor([[1,2,3],[4,5,6],[7,8,9]])\n",
    "y = torch.FloatTensor([[10,11,12],[13,14,15],[16,17,18]])\n",
    "print(x.size(), y.size())"
   ]
  },
  {
   "cell_type": "code",
   "execution_count": 127,
   "id": "93eed357-7175-4028-97a1-cc0e7a5e3137",
   "metadata": {},
   "outputs": [
    {
     "data": {
      "text/plain": [
       "tensor([[ 1.,  2.,  3.],\n",
       "        [ 4.,  5.,  6.],\n",
       "        [ 7.,  8.,  9.],\n",
       "        [10., 11., 12.],\n",
       "        [13., 14., 15.],\n",
       "        [16., 17., 18.]])"
      ]
     },
     "execution_count": 127,
     "metadata": {},
     "output_type": "execute_result"
    }
   ],
   "source": [
    "torch.cat([x,y],dim=0)"
   ]
  },
  {
   "cell_type": "markdown",
   "id": "2760205a-2646-4942-b969-e95b99d2a633",
   "metadata": {},
   "source": [
    "### Stack 함수\n",
    "- cat() 함수와 비슷하게 텐서를 합치는 함수\n",
    "- cat() 함수와 다르게 새로운 차원을 추가하여 합치는 텐서를 쌓는 방식으로 합침\n",
    "- Numpy의 stack() 메서드와 같은 방식"
   ]
  },
  {
   "cell_type": "code",
   "execution_count": 131,
   "id": "04e79b85-ec73-43db-99c1-d461dfcf8d7c",
   "metadata": {},
   "outputs": [
    {
     "data": {
      "text/plain": [
       "(tensor([[1., 2., 3.],\n",
       "         [4., 5., 6.],\n",
       "         [7., 8., 9.]]),\n",
       " tensor([[10., 11., 12.],\n",
       "         [13., 14., 15.],\n",
       "         [16., 17., 18.]]))"
      ]
     },
     "execution_count": 131,
     "metadata": {},
     "output_type": "execute_result"
    }
   ],
   "source": [
    "x ,y"
   ]
  },
  {
   "cell_type": "code",
   "execution_count": 130,
   "id": "182a4305-e1fd-42c6-9dfb-af5181848d6a",
   "metadata": {},
   "outputs": [
    {
     "data": {
      "text/plain": [
       "tensor([[[ 1.,  2.,  3.],\n",
       "         [ 4.,  5.,  6.],\n",
       "         [ 7.,  8.,  9.]],\n",
       "\n",
       "        [[10., 11., 12.],\n",
       "         [13., 14., 15.],\n",
       "         [16., 17., 18.]]])"
      ]
     },
     "execution_count": 130,
     "metadata": {},
     "output_type": "execute_result"
    }
   ],
   "source": [
    "torch.stack([x,y], dim=0)"
   ]
  },
  {
   "cell_type": "code",
   "execution_count": 133,
   "id": "e0e95ead-b6ee-4861-b281-b200aed1e03b",
   "metadata": {},
   "outputs": [
    {
     "data": {
      "text/plain": [
       "tensor([[[ 1.,  2.,  3.],\n",
       "         [ 4.,  5.,  6.],\n",
       "         [ 7.,  8.,  9.]],\n",
       "\n",
       "        [[10., 11., 12.],\n",
       "         [13., 14., 15.],\n",
       "         [16., 17., 18.]]])"
      ]
     },
     "execution_count": 133,
     "metadata": {},
     "output_type": "execute_result"
    }
   ],
   "source": [
    "torch.cat([x.unsqueeze(0), y.unsqueeze(0)], dim=0) # stack()와 같음"
   ]
  },
  {
   "cell_type": "code",
   "execution_count": 139,
   "id": "54a47740-9032-4c1b-838b-2ed175c14d6a",
   "metadata": {},
   "outputs": [
    {
     "data": {
      "text/plain": [
       "tensor([[[ 1., 10.],\n",
       "         [ 2., 11.],\n",
       "         [ 3., 12.]],\n",
       "\n",
       "        [[ 4., 13.],\n",
       "         [ 5., 14.],\n",
       "         [ 6., 15.]],\n",
       "\n",
       "        [[ 7., 16.],\n",
       "         [ 8., 17.],\n",
       "         [ 9., 18.]]])"
      ]
     },
     "execution_count": 139,
     "metadata": {},
     "output_type": "execute_result"
    }
   ],
   "source": [
    "torch.stack([x,y],dim=-1)"
   ]
  },
  {
   "cell_type": "markdown",
   "id": "19da9e69-9017-4658-8ce6-d4fd3b6cf61d",
   "metadata": {},
   "source": [
    "### 유용한 함수들\n",
    "### Expand 함수\n",
    "- 차원의 크기가 1인 차원을 원하는 크기로 늘여줌\n",
    "- [2,1,3] ---> [2,3,2]\n",
    "- 확장되는 차원의 데이터는 원본데이터의 참조일 뿐 복사가 아님"
   ]
  },
  {
   "cell_type": "code",
   "execution_count": 140,
   "id": "ed086372-7c51-49a1-b605-fd0825d25620",
   "metadata": {},
   "outputs": [],
   "source": [
    "x = torch.FloatTensor([[[1,2]],[[3,4]]])"
   ]
  },
  {
   "cell_type": "code",
   "execution_count": 141,
   "id": "220b85af-f184-4579-a4a2-c8e6b770c19b",
   "metadata": {},
   "outputs": [
    {
     "data": {
      "text/plain": [
       "torch.Size([2, 1, 2])"
      ]
     },
     "execution_count": 141,
     "metadata": {},
     "output_type": "execute_result"
    }
   ],
   "source": [
    "x.size()"
   ]
  },
  {
   "cell_type": "code",
   "execution_count": 142,
   "id": "97756492-78d0-4ea3-a922-1df177a810b9",
   "metadata": {},
   "outputs": [],
   "source": [
    "y = x.expand(2,3,2)"
   ]
  },
  {
   "cell_type": "code",
   "execution_count": 143,
   "id": "4f3daa90-effc-49a1-b258-99662fe8f445",
   "metadata": {},
   "outputs": [
    {
     "name": "stdout",
     "output_type": "stream",
     "text": [
      "tensor([[[1., 2.],\n",
      "         [1., 2.],\n",
      "         [1., 2.]],\n",
      "\n",
      "        [[3., 4.],\n",
      "         [3., 4.],\n",
      "         [3., 4.]]])\n"
     ]
    }
   ],
   "source": [
    "print(y)"
   ]
  },
  {
   "cell_type": "code",
   "execution_count": 144,
   "id": "1ced5aaa-532e-4c12-ba87-592526e4e1ac",
   "metadata": {},
   "outputs": [
    {
     "data": {
      "text/plain": [
       "torch.Size([2, 3, 2])"
      ]
     },
     "execution_count": 144,
     "metadata": {},
     "output_type": "execute_result"
    }
   ],
   "source": [
    "y.size()"
   ]
  },
  {
   "cell_type": "code",
   "execution_count": 147,
   "id": "b8d84c44-30e6-4e91-bce8-ffcda0e818c1",
   "metadata": {},
   "outputs": [],
   "source": [
    "y = torch.cat([x] * 3, dim=1) # cat()으로 구현"
   ]
  },
  {
   "cell_type": "code",
   "execution_count": 148,
   "id": "b9437372-995a-41d1-8f99-f0d24fc15cb2",
   "metadata": {},
   "outputs": [
    {
     "name": "stdout",
     "output_type": "stream",
     "text": [
      "tensor([[[1., 2.],\n",
      "         [1., 2.],\n",
      "         [1., 2.]],\n",
      "\n",
      "        [[3., 4.],\n",
      "         [3., 4.],\n",
      "         [3., 4.]]])\n"
     ]
    }
   ],
   "source": [
    "print(y)"
   ]
  },
  {
   "cell_type": "markdown",
   "id": "6e384bea-938d-4ce5-9ee4-6f6f5aa10817",
   "metadata": {},
   "source": [
    "### Random Permutation 함수\n",
    "- randomperm()\n",
    "- 인수로 주어진 숫자로, 0부터 해당 숫자 앞까지의 정수를 임의의 순서로 텐서를 만듬\n",
    "- 순서를 섞어준다는 의미에서 Numpy의 shuffle()과 비슷함\n",
    "- shuffle()은 주어진 데이터를 섞는 것이거, randomperm()은 1부터 해당 숫자까지 데이터를 생성해서 섞는 것이 다름"
   ]
  },
  {
   "cell_type": "code",
   "execution_count": 152,
   "id": "3a17f633-3374-4b33-b871-cb55dff9ecaa",
   "metadata": {},
   "outputs": [
    {
     "data": {
      "text/plain": [
       "tensor([0, 9, 8, 3, 7, 6, 5, 1, 2, 4])"
      ]
     },
     "execution_count": 152,
     "metadata": {},
     "output_type": "execute_result"
    }
   ],
   "source": [
    "x = torch.randperm(10)\n",
    "x # 딥러닝 학습에서 데이터를 무작위 순서로 넣어주기 위해 데이터의 인덱스를 섞어주는 역할로 사용"
   ]
  },
  {
   "cell_type": "markdown",
   "id": "33f92f8b-1e14-4fdc-a62a-e7596003b723",
   "metadata": {},
   "source": [
    "### Argument 함수\n",
    "- argmax()\n",
    "- X의 원소 중에서 함수 f(x)의 출력 값을 최대로 하는 입력 x를 반환함\n",
    "- 즉, 함수 f(x)의 최대값이 나오는 텐서X의 인덱스를 반환함"
   ]
  },
  {
   "cell_type": "code",
   "execution_count": 162,
   "id": "34957bcd-03d3-4924-8202-d228891ccbc2",
   "metadata": {},
   "outputs": [
    {
     "data": {
      "text/plain": [
       "tensor([[[25, 13, 10],\n",
       "         [26,  6, 15],\n",
       "         [ 2, 20,  7]],\n",
       "\n",
       "        [[16,  0, 21],\n",
       "         [ 9,  1, 24],\n",
       "         [12, 17,  8]],\n",
       "\n",
       "        [[ 5, 19, 14],\n",
       "         [22,  3, 18],\n",
       "         [11,  4, 23]]])"
      ]
     },
     "execution_count": 162,
     "metadata": {},
     "output_type": "execute_result"
    }
   ],
   "source": [
    "x = torch.randperm(3**3).reshape(3,3,-1)\n",
    "x"
   ]
  },
  {
   "cell_type": "code",
   "execution_count": 165,
   "id": "80757d15-d96a-42bd-8fb8-5ce76c3ad45e",
   "metadata": {},
   "outputs": [
    {
     "data": {
      "text/plain": [
       "tensor([[0, 0, 1],\n",
       "        [2, 2, 1],\n",
       "        [1, 0, 2]])"
      ]
     },
     "execution_count": 165,
     "metadata": {},
     "output_type": "execute_result"
    }
   ],
   "source": [
    "x.argmax(dim=-1)"
   ]
  },
  {
   "cell_type": "markdown",
   "id": "b1b65fa0-83a0-45e9-ba9a-eaac427d17ee",
   "metadata": {},
   "source": [
    "### Top-k 함수\n",
    "- topk()\n",
    "- argmax() 함수는 가장 큰 값의 인덱스를 반환하는 것에 반해, topk() 함수는 가장 큰 값부터 k개의 값과 인덱스를 모두 반환함\n",
    "- 따라서, k=1일때도 argmax()보다 차원이 하나 더 늘어남"
   ]
  },
  {
   "cell_type": "code",
   "execution_count": 184,
   "id": "f92d8e40-9bbf-4582-8aa3-f06e8e32963c",
   "metadata": {},
   "outputs": [],
   "source": [
    "values, indices = torch.topk(x, k=3, dim=-1)"
   ]
  },
  {
   "cell_type": "code",
   "execution_count": 185,
   "id": "c24db433-b6f0-4fb6-b17b-7738b42bb006",
   "metadata": {},
   "outputs": [
    {
     "data": {
      "text/plain": [
       "tensor([[[25, 13, 10],\n",
       "         [26, 15,  6],\n",
       "         [20,  7,  2]],\n",
       "\n",
       "        [[21, 16,  0],\n",
       "         [24,  9,  1],\n",
       "         [17, 12,  8]],\n",
       "\n",
       "        [[19, 14,  5],\n",
       "         [22, 18,  3],\n",
       "         [23, 11,  4]]])"
      ]
     },
     "execution_count": 185,
     "metadata": {},
     "output_type": "execute_result"
    }
   ],
   "source": [
    "values"
   ]
  },
  {
   "cell_type": "code",
   "execution_count": 186,
   "id": "e55ef145-fa98-4db8-81af-844050464306",
   "metadata": {},
   "outputs": [
    {
     "name": "stdout",
     "output_type": "stream",
     "text": [
      "tensor([[[0, 1, 2],\n",
      "         [0, 2, 1],\n",
      "         [1, 2, 0]],\n",
      "\n",
      "        [[2, 0, 1],\n",
      "         [2, 0, 1],\n",
      "         [1, 0, 2]],\n",
      "\n",
      "        [[1, 2, 0],\n",
      "         [0, 2, 1],\n",
      "         [2, 0, 1]]])\n"
     ]
    }
   ],
   "source": [
    "print(indices)"
   ]
  },
  {
   "cell_type": "markdown",
   "id": "7bc39694-c0e5-424a-9e45-341b8d3dda78",
   "metadata": {},
   "source": [
    "### sort 함수\n",
    "- sort()\n",
    "- 텐서를 원하는 차원을 기준으로 정렬함"
   ]
  },
  {
   "cell_type": "code",
   "execution_count": 187,
   "id": "b4abb28b-6bdf-4728-ae97-a89367f3c881",
   "metadata": {},
   "outputs": [
    {
     "data": {
      "text/plain": [
       "torch.return_types.sort(\n",
       "values=tensor([[[10, 13, 25],\n",
       "         [ 6, 15, 26],\n",
       "         [ 2,  7, 20]],\n",
       "\n",
       "        [[ 0, 16, 21],\n",
       "         [ 1,  9, 24],\n",
       "         [ 8, 12, 17]],\n",
       "\n",
       "        [[ 5, 14, 19],\n",
       "         [ 3, 18, 22],\n",
       "         [ 4, 11, 23]]]),\n",
       "indices=tensor([[[2, 1, 0],\n",
       "         [1, 2, 0],\n",
       "         [0, 2, 1]],\n",
       "\n",
       "        [[1, 0, 2],\n",
       "         [1, 0, 2],\n",
       "         [2, 0, 1]],\n",
       "\n",
       "        [[0, 2, 1],\n",
       "         [1, 2, 0],\n",
       "         [1, 0, 2]]]))"
      ]
     },
     "execution_count": 187,
     "metadata": {},
     "output_type": "execute_result"
    }
   ],
   "source": [
    "torch.sort(x, dim=-1)"
   ]
  },
  {
   "cell_type": "code",
   "execution_count": 189,
   "id": "d1a54187-962e-4f03-8003-7d5d07c89f20",
   "metadata": {},
   "outputs": [
    {
     "data": {
      "text/plain": [
       "torch.return_types.topk(\n",
       "values=tensor([[[10, 13, 25],\n",
       "         [ 6, 15, 26],\n",
       "         [ 2,  7, 20]],\n",
       "\n",
       "        [[ 0, 16, 21],\n",
       "         [ 1,  9, 24],\n",
       "         [ 8, 12, 17]],\n",
       "\n",
       "        [[ 5, 14, 19],\n",
       "         [ 3, 18, 22],\n",
       "         [ 4, 11, 23]]]),\n",
       "indices=tensor([[[2, 1, 0],\n",
       "         [1, 2, 0],\n",
       "         [0, 2, 1]],\n",
       "\n",
       "        [[1, 0, 2],\n",
       "         [1, 0, 2],\n",
       "         [2, 0, 1]],\n",
       "\n",
       "        [[0, 2, 1],\n",
       "         [1, 2, 0],\n",
       "         [1, 0, 2]]]))"
      ]
     },
     "execution_count": 189,
     "metadata": {},
     "output_type": "execute_result"
    }
   ],
   "source": [
    "target_dim = -1\n",
    "torch.topk(x, k=x.size(target_dim), largest=False) # 기본값 : largest=True(큰 값부터 정렬)"
   ]
  },
  {
   "cell_type": "code",
   "execution_count": 191,
   "id": "1d8e7f6e-88e6-4862-ae70-5d651e82bdce",
   "metadata": {},
   "outputs": [
    {
     "data": {
      "text/plain": [
       "3"
      ]
     },
     "execution_count": 191,
     "metadata": {},
     "output_type": "execute_result"
    }
   ],
   "source": [
    "x.size(-1)"
   ]
  },
  {
   "cell_type": "markdown",
   "id": "aa5eee2a-cd55-4af7-a097-3e34bd027a87",
   "metadata": {},
   "source": [
    "### Masked Fill 함수\n",
    "- masked_fill()\n",
    "- 텐서 내의 원하는 부분만 특정 값으로 채움\n",
    "- 원하는 위치는 마스크로 설정"
   ]
  },
  {
   "cell_type": "code",
   "execution_count": 196,
   "id": "b839d069-9f29-41f4-9be9-600db55608d8",
   "metadata": {},
   "outputs": [],
   "source": [
    "x = torch.FloatTensor([i for i in range(3**2)]).reshape(3,-1)"
   ]
  },
  {
   "cell_type": "code",
   "execution_count": 197,
   "id": "25248bf4-9ef1-4fcb-a713-29f64a8f1310",
   "metadata": {},
   "outputs": [
    {
     "data": {
      "text/plain": [
       "tensor([[0., 1., 2.],\n",
       "        [3., 4., 5.],\n",
       "        [6., 7., 8.]])"
      ]
     },
     "execution_count": 197,
     "metadata": {},
     "output_type": "execute_result"
    }
   ],
   "source": [
    "x"
   ]
  },
  {
   "cell_type": "code",
   "execution_count": 198,
   "id": "6bd9ef86-5c45-406a-a78b-c6b3e4de5ce8",
   "metadata": {},
   "outputs": [],
   "source": [
    "mask = x > 4"
   ]
  },
  {
   "cell_type": "code",
   "execution_count": 199,
   "id": "84bcfa75-89ec-4b97-ac19-116a43692576",
   "metadata": {},
   "outputs": [
    {
     "data": {
      "text/plain": [
       "tensor([[False, False, False],\n",
       "        [False, False,  True],\n",
       "        [ True,  True,  True]])"
      ]
     },
     "execution_count": 199,
     "metadata": {},
     "output_type": "execute_result"
    }
   ],
   "source": [
    "mask"
   ]
  },
  {
   "cell_type": "code",
   "execution_count": 201,
   "id": "b6f72dc7-e232-4208-96c5-4b69c4f0e809",
   "metadata": {},
   "outputs": [
    {
     "data": {
      "text/plain": [
       "tensor([[  0.,   1.,   2.],\n",
       "        [  3.,   4., 100.],\n",
       "        [100., 100., 100.]])"
      ]
     },
     "execution_count": 201,
     "metadata": {},
     "output_type": "execute_result"
    }
   ],
   "source": [
    "x.masked_fill(mask, value=100)"
   ]
  },
  {
   "cell_type": "markdown",
   "id": "0e549d38-ecfc-411c-922e-f46077d6478f",
   "metadata": {},
   "source": [
    "### Ones & zero 함수\n",
    "- ones(), zeros()\n",
    "- ones_like(), zero_like()\n",
    "- Numpy의 함수와 같은 역할\n",
    "- 차이점 : Numpy함수는 데이터의 크기를 하나의 리스트/튜플로 만들어서 넣어야 하지만, pytorch에서는 차원을 그래도 인수로 넣는다"
   ]
  },
  {
   "cell_type": "code",
   "execution_count": 204,
   "id": "e3e65b30-2150-4bed-83c2-194d799aa956",
   "metadata": {},
   "outputs": [
    {
     "data": {
      "text/plain": [
       "array([[1., 1.],\n",
       "       [1., 1.],\n",
       "       [1., 1.]])"
      ]
     },
     "execution_count": 204,
     "metadata": {},
     "output_type": "execute_result"
    }
   ],
   "source": [
    "import numpy as np\n",
    "np.ones((3,2))"
   ]
  },
  {
   "cell_type": "code",
   "execution_count": 205,
   "id": "fa77efbf-da1c-4f5a-b8a9-eadba206cafa",
   "metadata": {},
   "outputs": [
    {
     "data": {
      "text/plain": [
       "tensor([[1., 1.],\n",
       "        [1., 1.],\n",
       "        [1., 1.]])"
      ]
     },
     "execution_count": 205,
     "metadata": {},
     "output_type": "execute_result"
    }
   ],
   "source": [
    "torch.ones(3,2)"
   ]
  },
  {
   "cell_type": "code",
   "execution_count": 210,
   "id": "2421804e-4827-42f0-970d-de30728d1b90",
   "metadata": {},
   "outputs": [],
   "source": [
    "x = torch.FloatTensor([[[1,2]],[[3,4]]])"
   ]
  },
  {
   "cell_type": "code",
   "execution_count": 212,
   "id": "5ee5161e-86ec-4cc1-aa6b-42f68039457c",
   "metadata": {},
   "outputs": [
    {
     "name": "stdout",
     "output_type": "stream",
     "text": [
      "4813004096\n",
      "4813004100\n",
      "4813004104\n",
      "4813004108\n"
     ]
    }
   ],
   "source": [
    "for i in range(2):\n",
    "    for j in range(1):\n",
    "        for k in range(2):\n",
    "            print(x[i][j][k].data_ptr())"
   ]
  },
  {
   "cell_type": "code",
   "execution_count": 213,
   "id": "dd61375c-d340-4f87-b936-3e098ffcda9f",
   "metadata": {},
   "outputs": [],
   "source": [
    "y = x.expand(2,3,2)"
   ]
  },
  {
   "cell_type": "code",
   "execution_count": 214,
   "id": "26154231-8467-448d-95f8-258d9079f79d",
   "metadata": {},
   "outputs": [
    {
     "data": {
      "text/plain": [
       "tensor([[[1., 2.],\n",
       "         [1., 2.],\n",
       "         [1., 2.]],\n",
       "\n",
       "        [[3., 4.],\n",
       "         [3., 4.],\n",
       "         [3., 4.]]])"
      ]
     },
     "execution_count": 214,
     "metadata": {},
     "output_type": "execute_result"
    }
   ],
   "source": [
    "y"
   ]
  },
  {
   "cell_type": "code",
   "execution_count": 215,
   "id": "00f40ed7-3bb2-44ca-a314-a45bf6eaa089",
   "metadata": {},
   "outputs": [
    {
     "name": "stdout",
     "output_type": "stream",
     "text": [
      "4813004096\n",
      "4813004100\n",
      "4813004096\n",
      "4813004100\n",
      "4813004096\n",
      "4813004100\n",
      "4813004104\n",
      "4813004108\n",
      "4813004104\n",
      "4813004108\n",
      "4813004104\n",
      "4813004108\n"
     ]
    }
   ],
   "source": [
    "for i in range(2):\n",
    "    for j in range(3):\n",
    "        for k in range(2):\n",
    "            print(y[i][j][k].data_ptr())"
   ]
  },
  {
   "cell_type": "code",
   "execution_count": 216,
   "id": "2608b36e-d506-41d9-abd7-e7c26c3ec284",
   "metadata": {},
   "outputs": [
    {
     "data": {
      "text/plain": [
       "(2, 0, 1)"
      ]
     },
     "execution_count": 216,
     "metadata": {},
     "output_type": "execute_result"
    }
   ],
   "source": [
    "y.stride()"
   ]
  },
  {
   "cell_type": "code",
   "execution_count": 217,
   "id": "2c53f01c-a800-4195-8292-099984dfa2c0",
   "metadata": {},
   "outputs": [
    {
     "data": {
      "text/plain": [
       "tensor([[[1., 2.],\n",
       "         [1., 2.],\n",
       "         [1., 2.]],\n",
       "\n",
       "        [[3., 4.],\n",
       "         [3., 4.],\n",
       "         [3., 4.]]])"
      ]
     },
     "execution_count": 217,
     "metadata": {},
     "output_type": "execute_result"
    }
   ],
   "source": [
    "z = torch.cat([x]*3, dim=1)\n",
    "z"
   ]
  },
  {
   "cell_type": "code",
   "execution_count": 218,
   "id": "76da975c-a395-4643-b9f1-fcd4e146eb6e",
   "metadata": {},
   "outputs": [
    {
     "data": {
      "text/plain": [
       "(6, 2, 1)"
      ]
     },
     "execution_count": 218,
     "metadata": {},
     "output_type": "execute_result"
    }
   ],
   "source": [
    "z.stride()"
   ]
  },
  {
   "cell_type": "code",
   "execution_count": null,
   "id": "869e530e-0402-4342-9f6e-81dbe6d24027",
   "metadata": {},
   "outputs": [],
   "source": [
    "z"
   ]
  }
 ],
 "metadata": {
  "kernelspec": {
   "display_name": "Python 3 (ipykernel)",
   "language": "python",
   "name": "python3"
  },
  "language_info": {
   "codemirror_mode": {
    "name": "ipython",
    "version": 3
   },
   "file_extension": ".py",
   "mimetype": "text/x-python",
   "name": "python",
   "nbconvert_exporter": "python",
   "pygments_lexer": "ipython3",
   "version": "3.13.7"
  }
 },
 "nbformat": 4,
 "nbformat_minor": 5
}
